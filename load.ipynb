{
 "cells": [
  {
   "cell_type": "code",
   "execution_count": 58,
   "id": "414feb38-a3f5-46c3-ba3d-1c8ab759a921",
   "metadata": {},
   "outputs": [],
   "source": [
    "import pandas as pd\n",
    "import numpy as np\n",
    "from tqdm import tqdm\n",
    "import csv\n",
    "import matplotlib.pyplot as plt\n",
    "import seaborn as sns\n",
    "\n",
    "\n",
    "pd.set_option('display.max_columns',50)\n",
    "pd.set_option('display.max_rows',150)"
   ]
  },
  {
   "cell_type": "code",
   "execution_count": 2,
   "id": "97bd3c1b-9655-49d6-a3a9-d16fd4ba3a62",
   "metadata": {},
   "outputs": [],
   "source": [
    "def read_csv_with_progressbar(file_path, **kwargs):\n",
    "    num_lines = sum(1 for line in open(file_path, encoding='latin-1')) \n",
    "    progress_bar = tqdm(total=num_lines)\n",
    "    chunk_size = 10**6\n",
    "    data_chunks = []\n",
    "    for chunk in pd.read_csv(file_path, chunksize=chunk_size, **kwargs):\n",
    "        data_chunks.append(chunk)\n",
    "        progress_bar.update(chunk_size)\n",
    "    data = pd.concat(data_chunks)\n",
    "    progress_bar.close()\n",
    "    return data"
   ]
  },
  {
   "cell_type": "code",
   "execution_count": 3,
   "id": "9bca11d9-3a33-42d2-beae-8728e5c71b15",
   "metadata": {},
   "outputs": [
    {
     "name": "stderr",
     "output_type": "stream",
     "text": [
      "  0%|          | 0/9360389 [00:00<?, ?it/s]<timed exec>:1: FutureWarning: The warn_bad_lines argument has been deprecated and will be removed in a future version.\n",
      "\n",
      "\n",
      "<timed exec>:1: FutureWarning: The error_bad_lines argument has been deprecated and will be removed in a future version.\n",
      "\n",
      "\n",
      "10000000it [00:54, 181826.97it/s]                            \n",
      "13000000it [01:28, 146468.47it/s]                              \n",
      "15000000it [00:23, 634581.69it/s]                              \n",
      "1000000it [00:00, 35823033.04it/s]     \n",
      "5000000it [01:07, 74002.89it/s]                              \n",
      "34000000it [05:41, 99614.54it/s]                               \n",
      "2000000it [00:02, 955249.88it/s]                             \n",
      "1000000it [00:00, 106885757.24it/s]     \n",
      "1000000it [00:00, 48049122.49it/s]     \n",
      "1000000it [00:00, 156784689.00it/s]    \n",
      "7000000it [00:08, 807363.92it/s]                             \n",
      "1000000it [00:00, 85449811.55it/s]    \n"
     ]
    },
    {
     "name": "stdout",
     "output_type": "stream",
     "text": [
      "CPU times: user 6min 20s, sys: 2min 44s, total: 9min 5s\n",
      "Wall time: 12min 34s\n"
     ]
    }
   ],
   "source": [
    "%%time\n",
    "\n",
    "cases = read_csv_with_progressbar('/Users/stjames/Dropbox/Pablo/data/EOIR TRAC JUNE/A_TblCase.csv', \n",
    "                    sep='\\t', \n",
    "                    dtype='str', \n",
    "                    error_bad_lines=False, \n",
    "                    warn_bad_lines=False, \n",
    "                    encoding='latin-1', \n",
    "                    na_values=' ', \n",
    "                    quoting=csv.QUOTE_NONE)\n",
    "\n",
    "proceedings = read_csv_with_progressbar(\"/Users/stjames/Dropbox/Pablo/data/EOIR TRAC JUNE/B_TblProceeding.csv\", \n",
    "                          sep='\\t', \n",
    "                          dtype='str',\n",
    "                          on_bad_lines='skip',\n",
    "                          na_values=' ',\n",
    "                          quoting=csv.QUOTE_NONE)\n",
    "\n",
    "charges = read_csv_with_progressbar(\"/Users/stjames/Dropbox/Pablo/data/EOIR TRAC JUNE/B_TblProceedCharges.csv\", \n",
    "                      sep='\\t',\n",
    "                      dtype='str', \n",
    "                      na_values=' ',\n",
    "                      on_bad_lines='skip',\n",
    "                      quoting=csv.QUOTE_NONE)\n",
    "\n",
    "charge_lookup = read_csv_with_progressbar(\"/Users/stjames/Dropbox/Pablo/data/EOIR TRAC JUNE/Lookup/tbllookupCharges.csv\", \n",
    "                            sep='\\t',\n",
    "                            dtype='str',\n",
    "                            na_values=' ',\n",
    "                            on_bad_lines='skip',\n",
    "                            quoting=csv.QUOTE_NONE)\n",
    "motions = read_csv_with_progressbar(\"/Users/stjames/Dropbox/Pablo/data/EOIR TRAC JUNE/tbl_Court_Motions.csv\", \n",
    "                            sep='\\t',\n",
    "                            dtype='str',\n",
    "                            na_values=' ',\n",
    "                            on_bad_lines='skip',\n",
    "                            quoting=csv.QUOTE_NONE) \n",
    "schedule = read_csv_with_progressbar(\"/Users/stjames/Dropbox/Pablo/data/EOIR TRAC JUNE/tbl_schedule.csv\", \n",
    "                            sep='\\t',\n",
    "                            dtype='str',\n",
    "                            na_values=' ',\n",
    "                            on_bad_lines='skip',\n",
    "                            quoting=csv.QUOTE_NONE)\n",
    "case_identifier = read_csv_with_progressbar('/Users/stjames/Dropbox/Pablo/data/EOIR TRAC JUNE/A_TblCaseIdentifier.csv', \n",
    "                              sep='\\t',\n",
    "                              dtype='str',\n",
    "                              na_values=' ',\n",
    "                              on_bad_lines='skip',\n",
    "                              quoting=csv.QUOTE_NONE)\n",
    "schema = read_csv_with_progressbar('/Users/stjames/Dropbox/Pablo/data/EOIR TRAC JUNE/EOIRDB_Schema.csv', sep='\\t',\n",
    "                              dtype='str',\n",
    "                              na_values=' ',\n",
    "                              on_bad_lines='skip',\n",
    "                              quoting=csv.QUOTE_NONE)\n",
    "\n",
    "hlcodes = read_csv_with_progressbar('/Users/stjames/Dropbox/Pablo/data/EOIR TRAC JUNE/Lookup/tblLookupHloc.csv', sep='\\t',\n",
    "                              dtype='str',\n",
    "                              na_values=' ',\n",
    "                              on_bad_lines='skip',\n",
    "                              quoting=csv.QUOTE_NONE)\n",
    "case_id_lkup = read_csv_with_progressbar('/Users/stjames/Dropbox/Pablo/data/EOIR TRAC JUNE/Lookup/tblLookUpCaseIdentifier.csv', sep='\\t',\n",
    "                              dtype='str',\n",
    "                              na_values=' ',\n",
    "                              on_bad_lines='skip',\n",
    "                              quoting=csv.QUOTE_NONE)\n",
    "custody_history = read_csv_with_progressbar('/Users/stjames/Dropbox/Pablo/data/EOIR TRAC JUNE/tbl_CustodyHistory.csv', sep='\\t',\n",
    "                              dtype='str',\n",
    "                              na_values=' ',\n",
    "                              on_bad_lines='skip',\n",
    "                              quoting=csv.QUOTE_NONE)\n",
    "base_city_lkup = read_csv_with_progressbar('/Users/stjames/Dropbox/Pablo/data/EOIR TRAC JUNE/Lookup/tblLookupBaseCity.csv', sep='\\t',\n",
    "                              dtype='str',\n",
    "                              na_values=' ',\n",
    "                              on_bad_lines='skip',\n",
    "                              quoting=csv.QUOTE_NONE)\n",
    "hearing_loc = read_csv_with_progressbar('/Users/stjames/Dropbox/Pablo/data/EOIR TRAC JUNE/Lookup/tblLookupHloc.csv', sep='\\t',\n",
    "                              dtype='str',\n",
    "                              na_values=' ',\n",
    "                              on_bad_lines='skip',\n",
    "                              quoting=csv.QUOTE_NONE)"
   ]
  },
  {
   "cell_type": "code",
   "execution_count": 4,
   "id": "0ef423e8-f40a-47e4-bb17-7824c4787459",
   "metadata": {},
   "outputs": [],
   "source": [
    "%%time\n",
    "\n",
    "# clean motions table\n",
    "\n",
    "motions = motions.reset_index()\n",
    "\n",
    "# Shift column names two spaces to the left\n",
    "\n",
    "motions.columns = list(motions.columns[2:]) + ['blank 1', 'blank 2']"
   ]
  },
  {
   "cell_type": "code",
   "execution_count": 5,
   "id": "48eec418-830a-4266-81d7-861fbf10ac3c",
   "metadata": {},
   "outputs": [
    {
     "name": "stdout",
     "output_type": "stream",
     "text": [
      "Dropping rows with non-numerical IDNCASE values:\n",
      "16120776    2007-05-11 23:46:14.963\n",
      "32462882    2007-02-08 22:58:00.013\n",
      "32675668    2007-02-08 23:02:57.967\n",
      "32919114    2007-02-08 23:26:39.623\n",
      "Name: IDNCASE, dtype: object\n",
      "2093144     2004-10-04 00:00:00.000\n",
      "2354041     2005-05-20 00:00:00.000\n",
      "3628703     2002-10-22 00:00:00.000\n",
      "5294912                            \n",
      "7393216     2003-05-12 00:00:00.000\n",
      "8131072     2001-03-23 00:00:00.000\n",
      "8924491     2004-11-17 00:00:00.000\n",
      "9793314     2006-12-27 00:00:00.000\n",
      "10409716    2007-04-02 00:00:00.000\n",
      "10753664    2004-08-23 00:00:00.000\n",
      "Name: IDNCASE, dtype: object\n"
     ]
    }
   ],
   "source": [
    "%%time\n",
    "\n",
    "# clean schedule & proceedings table\n",
    "\n",
    "# Function to check if a value is numerical\n",
    "def is_numerical(value):\n",
    "    if isinstance(value, (int, float)):\n",
    "        return True\n",
    "    elif isinstance(value, str) and value.isdigit():\n",
    "        return True\n",
    "    return False\n",
    "\n",
    "# Vectorize the function to work with Pandas Series\n",
    "vectorized_is_numerical = np.vectorize(is_numerical)\n",
    "\n",
    "# Create a boolean mask indicating valid IDNCASE values\n",
    "valid_idncase_mask = vectorized_is_numerical(schedule[\"IDNCASE\"])\n",
    "valid_idncase_mask_1 = vectorized_is_numerical(proceedings[\"IDNCASE\"])\n",
    "\n",
    "\n",
    "# Print the invalid IDNCASE values\n",
    "print(\"Dropping rows with non-numerical IDNCASE values:\")\n",
    "print(schedule.loc[~valid_idncase_mask, \"IDNCASE\"])\n",
    "print(proceedings.loc[~valid_idncase_mask_1, \"IDNCASE\"])\n",
    "\n",
    "\n",
    "# Use boolean indexing to keep only rows with numerical IDNCASE values\n",
    "schedule = schedule[valid_idncase_mask]\n",
    "proceedings = proceedings[valid_idncase_mask_1]\n",
    "\n",
    "\n",
    "# convert IDNCASE to int if they are not NA and are digits\n",
    "proceedings['IDNCASE'] = pd.to_numeric(proceedings['IDNCASE'], errors='coerce').dropna().astype(int)\n",
    "schedule['IDNCASE'] = pd.to_numeric(schedule['IDNCASE'], errors='coerce').dropna().astype(int)\n",
    "\n",
    "\n",
    "# convert date values to dt\n",
    "\n",
    "schedule.INPUT_DATE = pd.to_datetime(schedule.INPUT_DATE, errors='coerce')"
   ]
  },
  {
   "cell_type": "code",
   "execution_count": 6,
   "id": "7caa3c78-d8df-496f-acde-dda16ba7d30a",
   "metadata": {},
   "outputs": [],
   "source": [
    "%%time\n",
    "# convert IDNCASE to int if they are not NA and are digits\n",
    "case_identifier['IDNCASE'] = pd.to_numeric(case_identifier['IDNCASE'], errors='coerce').dropna().astype(int)\n",
    "cases['IDNCASE'] = pd.to_numeric(cases['IDNCASE'], errors='coerce').dropna().astype(int)"
   ]
  },
  {
   "cell_type": "code",
   "execution_count": 7,
   "id": "6f19064a-0c7c-44c8-a87e-22b2bf0f057f",
   "metadata": {},
   "outputs": [
    {
     "name": "stdout",
     "output_type": "stream",
     "text": [
      "Cases: 9,360,337\n",
      "Proceedings: 12,148,780\n",
      "Motions: 4,629,241\n",
      "Schedule: 33,813,961\n"
     ]
    }
   ],
   "source": [
    "print(f\"Cases: {cases.shape[0]:,}\")\n",
    "print(f\"Proceedings: {proceedings.shape[0]:,}\")\n",
    "print(f\"Motions: {motions.shape[0]:,}\")\n",
    "print(f\"Schedule: {schedule.shape[0]:,}\")"
   ]
  },
  {
   "cell_type": "code",
   "execution_count": 8,
   "id": "49106c6b-5919-4056-bcb0-046247e03d49",
   "metadata": {},
   "outputs": [],
   "source": [
    "%%time\n",
    "\n",
    "# filter california\n",
    "# probably need to use BASE_CITY_CODE\n",
    "CA = base_city_lkup[base_city_lkup['BASE_STATE']=='CA']"
   ]
  },
  {
   "cell_type": "code",
   "execution_count": 9,
   "id": "191b5011-b45c-4119-a331-660d5e5f60af",
   "metadata": {},
   "outputs": [],
   "source": [
    "%% time\n",
    "\n",
    "# these are my final 4 filters, 2 for proceedings and 2 for cases\n",
    "# i can ensure the following\n",
    "\n",
    "# 1) QR appointed after a JCI (excluding QRs w/ missing JCIs\n",
    "# 2) QR appointed in the same proceeding as JCI\n",
    "# 3) JCI and QR appointed in the same state (CA)\n",
    "\n",
    "# selecting proceedings\n",
    "\n",
    "JPCA = schedule[(schedule['ADJ_RSN']=='62') & (schedule['BASE_CITY_CODE'].isin(CA.BASE_CITY_CODE))]['IDNPROCEEDING'].drop_duplicates().to_frame()\n",
    "QPCA = schedule[(schedule['ADJ_RSN']=='61') & (schedule['BASE_CITY_CODE'].isin(CA.BASE_CITY_CODE))]['IDNPROCEEDING'].drop_duplicates().to_frame()\n",
    "QPCA = JPCA[JPCA['IDNPROCEEDING'].isin(QPCA['IDNPROCEEDING'])]\n",
    "\n",
    "# selecting cases \n",
    "\n",
    "JCCA = schedule[(schedule['ADJ_RSN']=='62') & (schedule['BASE_CITY_CODE'].isin(CA.BASE_CITY_CODE))]['IDNCASE'].drop_duplicates().to_frame()\n",
    "QCCA = schedule[(schedule['ADJ_RSN']=='61') & (schedule['BASE_CITY_CODE'].isin(CA.BASE_CITY_CODE))]['IDNCASE'].drop_duplicates().to_frame()\n",
    "QCCA = JCCA[JCCA['IDNCASE'].isin(QCCA['IDNCASE'])]\n",
    "\n"
   ]
  },
  {
   "cell_type": "code",
   "execution_count": 10,
   "id": "0de7a3e7-4764-4815-9fe3-e8cb000f438c",
   "metadata": {},
   "outputs": [
    {
     "name": "stdout",
     "output_type": "stream",
     "text": [
      "Case Category: JCCA, Number of cases: 1510\n",
      "Case Category: QCCA, Number of cases: 539\n",
      "Proceeding Category: JPCA, Number of proceedings: 1549\n",
      "Proceeding Category: QPCA, Number of proceedings: 493\n"
     ]
    }
   ],
   "source": [
    "CASES = {'JCCA':JCCA, 'QCCA':QCCA} \n",
    "\n",
    "PROCEEDINGS = {'JPCA':JPCA, 'QPCA':QPCA}\n",
    "\n",
    "for name, df in CASES.items():\n",
    "    print(f\"Case Category: {name}, Number of cases: {df.shape[0]}\")\n",
    "\n",
    "for name, df in PROCEEDINGS.items():\n",
    "    print(f\"Proceeding Category: {name}, Number of proceedings: {df.shape[0]}\")"
   ]
  },
  {
   "cell_type": "code",
   "execution_count": null,
   "id": "2100780e-5578-4d75-bec0-469ff4f3911e",
   "metadata": {},
   "outputs": [],
   "source": [
    "# some EDA"
   ]
  },
  {
   "cell_type": "code",
   "execution_count": 151,
   "id": "7ff270c8-a86e-4072-b4c5-eafe1e86e6e4",
   "metadata": {},
   "outputs": [],
   "source": [
    "# selecting schedule w/ filters\n",
    "\n",
    "SCH_JPCA = schedule[schedule['IDNPROCEEDING'].isin(JPCA.IDNPROCEEDING)]\n",
    "SCH_QPCA = schedule[schedule['IDNPROCEEDING'].isin(QPCA.IDNPROCEEDING)]\n",
    "\n",
    "PRO_JPCA = proceedings[proceedings['IDNPROCEEDING'].isin(JPCA.IDNPROCEEDING)]\n",
    "PRO_QPCA = proceedings[proceedings['IDNPROCEEDING'].isin(QPCA.IDNPROCEEDING)]"
   ]
  },
  {
   "cell_type": "code",
   "execution_count": 152,
   "id": "025e0cb1-bc81-45b9-94dc-431cab9b5931",
   "metadata": {},
   "outputs": [
    {
     "name": "stderr",
     "output_type": "stream",
     "text": [
      "/var/folders/nq/c298dxfn1sgcvrvkkcwthl980000gn/T/ipykernel_33405/3309327904.py:2: SettingWithCopyWarning: \n",
      "A value is trying to be set on a copy of a slice from a DataFrame.\n",
      "Try using .loc[row_indexer,col_indexer] = value instead\n",
      "\n",
      "See the caveats in the documentation: https://pandas.pydata.org/pandas-docs/stable/user_guide/indexing.html#returning-a-view-versus-a-copy\n",
      "  SCH_JPCA['ADJ_DATE'] = pd.to_datetime(SCH_JPCA['ADJ_DATE'])\n",
      "/var/folders/nq/c298dxfn1sgcvrvkkcwthl980000gn/T/ipykernel_33405/3309327904.py:3: SettingWithCopyWarning: \n",
      "A value is trying to be set on a copy of a slice from a DataFrame.\n",
      "Try using .loc[row_indexer,col_indexer] = value instead\n",
      "\n",
      "See the caveats in the documentation: https://pandas.pydata.org/pandas-docs/stable/user_guide/indexing.html#returning-a-view-versus-a-copy\n",
      "  SCH_QPCA['ADJ_DATE'] = pd.to_datetime(SCH_QPCA['ADJ_DATE'])\n",
      "/var/folders/nq/c298dxfn1sgcvrvkkcwthl980000gn/T/ipykernel_33405/3309327904.py:7: SettingWithCopyWarning: \n",
      "A value is trying to be set on a copy of a slice from a DataFrame.\n",
      "Try using .loc[row_indexer,col_indexer] = value instead\n",
      "\n",
      "See the caveats in the documentation: https://pandas.pydata.org/pandas-docs/stable/user_guide/indexing.html#returning-a-view-versus-a-copy\n",
      "  SCH_JPCA['ADJ_DATE'] = SCH_JPCA['ADJ_DATE'].dt.date\n",
      "/var/folders/nq/c298dxfn1sgcvrvkkcwthl980000gn/T/ipykernel_33405/3309327904.py:8: SettingWithCopyWarning: \n",
      "A value is trying to be set on a copy of a slice from a DataFrame.\n",
      "Try using .loc[row_indexer,col_indexer] = value instead\n",
      "\n",
      "See the caveats in the documentation: https://pandas.pydata.org/pandas-docs/stable/user_guide/indexing.html#returning-a-view-versus-a-copy\n",
      "  SCH_QPCA['ADJ_DATE'] = SCH_QPCA['ADJ_DATE'].dt.date\n"
     ]
    }
   ],
   "source": [
    "# Convert 'ADJ_DATE' to datetime \n",
    "SCH_JPCA['ADJ_DATE'] = pd.to_datetime(SCH_JPCA['ADJ_DATE'])\n",
    "SCH_QPCA['ADJ_DATE'] = pd.to_datetime(SCH_QPCA['ADJ_DATE'])\n",
    "\n",
    "\n",
    "# Keep only the date portion\n",
    "SCH_JPCA['ADJ_DATE'] = SCH_JPCA['ADJ_DATE'].dt.date\n",
    "SCH_QPCA['ADJ_DATE'] = SCH_QPCA['ADJ_DATE'].dt.date"
   ]
  },
  {
   "cell_type": "code",
   "execution_count": 153,
   "id": "206a3a85-ed76-4aa4-9baa-685280f40bec",
   "metadata": {},
   "outputs": [],
   "source": [
    "# Create a copy of the DataFrame, keeping only the rows where ADJ_RSN is '62'\n",
    "SCH_JPCA_62 = SCH_JPCA[SCH_JPCA['ADJ_RSN']=='62'].copy()\n",
    "SCH_QPCA_62 = SCH_QPCA[SCH_QPCA['ADJ_RSN']=='62'].copy()"
   ]
  },
  {
   "cell_type": "code",
   "execution_count": 154,
   "id": "7d5c3cf9-6276-4c32-94c8-a462f013f1d9",
   "metadata": {},
   "outputs": [],
   "source": [
    "SCH_QPCA_61 = SCH_QPCA[SCH_QPCA['ADJ_RSN']=='61'].copy()"
   ]
  },
  {
   "cell_type": "code",
   "execution_count": 30,
   "id": "4dd4f78c-e0df-4b6b-be98-857962954834",
   "metadata": {},
   "outputs": [
    {
     "data": {
      "text/plain": [
       "RMV    1410\n",
       "WHO     114\n",
       "AOC      13\n",
       "DEP       5\n",
       "RFR       4\n",
       "CFR       3\n",
       "Name: CASE_TYPE, dtype: int64"
      ]
     },
     "execution_count": 30,
     "metadata": {},
     "output_type": "execute_result"
    }
   ],
   "source": [
    "PRO_JPCA.CASE_TYPE.value_counts()"
   ]
  },
  {
   "cell_type": "code",
   "execution_count": 32,
   "id": "27db1e93-836f-46ab-8379-2557338a0fe3",
   "metadata": {},
   "outputs": [
    {
     "data": {
      "text/plain": [
       "MX    849\n",
       "ES    147\n",
       "GT    105\n",
       "HO     98\n",
       "IN     31\n",
       "Name: NAT, dtype: int64"
      ]
     },
     "execution_count": 32,
     "metadata": {},
     "output_type": "execute_result"
    }
   ],
   "source": [
    "PRO_JPCA.NAT.value_counts().head()"
   ]
  },
  {
   "cell_type": "code",
   "execution_count": 33,
   "id": "59e5c574-d740-4404-8b3c-1bb3d680642c",
   "metadata": {},
   "outputs": [
    {
     "data": {
      "text/plain": [
       "SP     933\n",
       "ENG    440\n",
       "PUN     24\n",
       "CRE     13\n",
       "MAM     12\n",
       "Name: LANG, dtype: int64"
      ]
     },
     "execution_count": 33,
     "metadata": {},
     "output_type": "execute_result"
    }
   ],
   "source": [
    "PRO_JPCA.LANG.value_counts().head()"
   ]
  },
  {
   "cell_type": "code",
   "execution_count": null,
   "id": "9ab8c898-84fa-48aa-b38c-0ad1ae5f7feb",
   "metadata": {},
   "outputs": [],
   "source": [
    "# calendar types"
   ]
  },
  {
   "cell_type": "code",
   "execution_count": 111,
   "id": "b5ed85d5-3af6-47da-a133-77aaf47235b1",
   "metadata": {},
   "outputs": [
    {
     "data": {
      "text/plain": [
       "M    1350\n",
       "I     556\n",
       "Name: CAL_TYPE, dtype: int64"
      ]
     },
     "execution_count": 111,
     "metadata": {},
     "output_type": "execute_result"
    }
   ],
   "source": [
    "SCH_JPCA_62.CAL_TYPE.value_counts()"
   ]
  },
  {
   "cell_type": "code",
   "execution_count": 112,
   "id": "dd75c885-3dcb-404f-b1aa-932d81f186b3",
   "metadata": {},
   "outputs": [
    {
     "data": {
      "text/plain": [
       "M    480\n",
       "I    139\n",
       "Name: CAL_TYPE, dtype: int64"
      ]
     },
     "execution_count": 112,
     "metadata": {},
     "output_type": "execute_result"
    }
   ],
   "source": [
    "SCH_QPCA_62.CAL_TYPE.value_counts()"
   ]
  },
  {
   "cell_type": "code",
   "execution_count": 113,
   "id": "1dae40fb-be7f-492e-af97-ca84c5caf8e8",
   "metadata": {},
   "outputs": [
    {
     "data": {
      "text/plain": [
       "M    368\n",
       "I    260\n",
       "Name: CAL_TYPE, dtype: int64"
      ]
     },
     "execution_count": 113,
     "metadata": {},
     "output_type": "execute_result"
    }
   ],
   "source": [
    "SCH_QPCA_61.CAL_TYPE.value_counts()"
   ]
  },
  {
   "cell_type": "code",
   "execution_count": 116,
   "id": "532d3fb7-e547-4b4e-b150-cb74cda0f312",
   "metadata": {},
   "outputs": [],
   "source": [
    "# not sure what this means... not sure how courts are recording master vs individual in this context\n",
    "# or why there are duplicate JCIs on the same date labeled both master and individual\n",
    "# i have to remove these duplicates for analysis"
   ]
  },
  {
   "cell_type": "code",
   "execution_count": 61,
   "id": "cf7e2bd3-4680-4d9b-aa56-55fbebca4b20",
   "metadata": {},
   "outputs": [],
   "source": [
    "# how many hearings w/ ADJ RSN 62 per proceeding? \n",
    "\n",
    "# first w/ all hearings \n",
    "\n",
    "# then w/ only those w/ QR"
   ]
  },
  {
   "cell_type": "code",
   "execution_count": 155,
   "id": "025cf8a5-970a-4abd-a396-d2016f75ebc7",
   "metadata": {},
   "outputs": [],
   "source": [
    "# Create a copy of the DataFrame, keeping only the rows where ADJ_RSN is '62'\n",
    "SCH_JPCA_62a = SCH_JPCA_62.copy()\n",
    "\n",
    "# Drop duplicates based on 'IDNPROCEEDING' and 'ADJ_DATE'\n",
    "SCH_JPCA_62a.drop_duplicates(subset=['IDNPROCEEDING', 'ADJ_DATE'], inplace=True)\n",
    "\n",
    "# Now, we can count the number of adjourned hearings for each 'IDNPROCEEDING'\n",
    "count_adjourned_hearings = SCH_JPCA_62a['IDNCASE'].value_counts()\n",
    "\n",
    "# 'count_adjourned_hearings' is a Series with 'IDNPROCEEDING' as the index and the counts as the values\n"
   ]
  },
  {
   "cell_type": "code",
   "execution_count": 124,
   "id": "146213da-e61b-4ab2-bfc3-fa5b881ce02b",
   "metadata": {},
   "outputs": [
    {
     "data": {
      "text/plain": [
       "8400630.0    6\n",
       "8021759.0    5\n",
       "7696175.0    4\n",
       "8140774.0    4\n",
       "7671346.0    4\n",
       "Name: IDNCASE, dtype: int64"
      ]
     },
     "execution_count": 124,
     "metadata": {},
     "output_type": "execute_result"
    }
   ],
   "source": [
    "count_adjourned_hearings.head()"
   ]
  },
  {
   "cell_type": "code",
   "execution_count": 173,
   "id": "8578ee8c-2b01-4042-859f-7bc37921db95",
   "metadata": {},
   "outputs": [
    {
     "data": {
      "text/plain": [
       "[7576015.0,\n",
       " 7936316.0,\n",
       " 8021759.0,\n",
       " 7946031.0,\n",
       " 8392107.0,\n",
       " 9213275.0,\n",
       " 8758332.0,\n",
       " 8546454.0,\n",
       " 7872516.0,\n",
       " 8156182.0,\n",
       " 8331714.0,\n",
       " 8226060.0,\n",
       " 7912564.0,\n",
       " 8243996.0,\n",
       " 8149788.0,\n",
       " 8348744.0,\n",
       " 8390744.0,\n",
       " 7724872.0,\n",
       " 8239093.0,\n",
       " 7148691.0,\n",
       " 8111236.0]"
      ]
     },
     "execution_count": 173,
     "metadata": {},
     "output_type": "execute_result"
    }
   ],
   "source": [
    "# short list of JCI hearings >= 3\n",
    "\n",
    "JCI3 = count_adjourned_hearings>=3\n",
    "JCI3 = JCI3[JCI3==True]\n",
    "JCI3 = list(JCI3.index)\n",
    "JCI3"
   ]
  },
  {
   "cell_type": "code",
   "execution_count": 126,
   "id": "8a71da69-820c-40f5-abcc-6ffdcb358e99",
   "metadata": {},
   "outputs": [
    {
     "data": {
      "text/plain": [
       "count    1510.000000\n",
       "mean        1.187417\n",
       "std         0.480198\n",
       "min         1.000000\n",
       "25%         1.000000\n",
       "50%         1.000000\n",
       "75%         1.000000\n",
       "max         6.000000\n",
       "Name: IDNCASE, dtype: float64"
      ]
     },
     "execution_count": 126,
     "metadata": {},
     "output_type": "execute_result"
    }
   ],
   "source": [
    "count_adjourned_hearings.describe()"
   ]
  },
  {
   "cell_type": "code",
   "execution_count": 127,
   "id": "851060e2-fb00-4a37-b008-d83cc9af463e",
   "metadata": {},
   "outputs": [
    {
     "data": {
      "image/png": "[encoded data removed]",
      "text/plain": [
       "<Figure size 432x288 with 1 Axes>"
      ]
     },
     "metadata": {
      "needs_background": "light"
     },
     "output_type": "display_data"
    }
   ],
   "source": [
    "# Create histogram\n",
    "plt.hist(count_adjourned_hearings, bins=30, edgecolor='black')\n",
    "\n",
    "# Add title and labels\n",
    "plt.title('Number of Hearings per Proceeding w/ JCI Adournment Code')\n",
    "plt.xlabel('Number of Hearings w/ JCI Adjournment Code')\n",
    "plt.ylabel('Number of Proceedings')\n",
    "\n",
    "# Show plot\n",
    "plt.show()\n"
   ]
  },
  {
   "cell_type": "code",
   "execution_count": 156,
   "id": "85bb6f13-4acc-4eff-acc1-d3f4bcf670d6",
   "metadata": {},
   "outputs": [],
   "source": [
    "# Create a copy of the DataFrame, keeping only the rows where ADJ_RSN is '62'\n",
    "SCH_QPCA_62a = SCH_QPCA_62.copy()\n",
    "\n",
    "# Drop duplicates based on 'IDNPROCEEDING' and 'ADJ_DATE'\n",
    "SCH_QPCA_62a.drop_duplicates(subset=['IDNPROCEEDING', 'ADJ_DATE'], inplace=True)\n",
    "\n",
    "# Now, we can count the number of adjourned hearings for each 'IDNPROCEEDING'\n",
    "count_adjourned_hearings = SCH_QPCA_62['IDNCASE'].value_counts()\n",
    "\n",
    "# 'count_adjourned_hearings' is a Series with 'IDNPROCEEDING' as the index and the counts as the values\n"
   ]
  },
  {
   "cell_type": "code",
   "execution_count": 142,
   "id": "60e4a5fd-a180-437a-b9ec-4e5a4391be80",
   "metadata": {},
   "outputs": [
    {
     "data": {
      "text/plain": [
       "8021759.0    5\n",
       "7946031.0    4\n",
       "8226060.0    3\n",
       "7576015.0    3\n",
       "8390744.0    3\n",
       "Name: IDNCASE, dtype: int64"
      ]
     },
     "execution_count": 142,
     "metadata": {},
     "output_type": "execute_result"
    }
   ],
   "source": [
    "count_adjourned_hearings.head()"
   ]
  },
  {
   "cell_type": "code",
   "execution_count": 130,
   "id": "7c5023b8-8b66-4c82-98cf-c453954237b8",
   "metadata": {},
   "outputs": [
    {
     "data": {
      "text/plain": [
       "count    493.000000\n",
       "mean       1.172414\n",
       "std        0.473580\n",
       "min        1.000000\n",
       "25%        1.000000\n",
       "50%        1.000000\n",
       "75%        1.000000\n",
       "max        5.000000\n",
       "Name: IDNCASE, dtype: float64"
      ]
     },
     "execution_count": 130,
     "metadata": {},
     "output_type": "execute_result"
    }
   ],
   "source": [
    "count_adjourned_hearings.describe()"
   ]
  },
  {
   "cell_type": "code",
   "execution_count": 131,
   "id": "beee75a9-5ce8-4324-a1c6-fd43b2cd9d92",
   "metadata": {},
   "outputs": [
    {
     "data": {
      "image/png": "[encoded data removed]",
      "text/plain": [
       "<Figure size 432x288 with 1 Axes>"
      ]
     },
     "metadata": {
      "needs_background": "light"
     },
     "output_type": "display_data"
    }
   ],
   "source": [
    "# Create histogram\n",
    "plt.hist(count_adjourned_hearings, bins=30, edgecolor='black')\n",
    "\n",
    "# Add title and labels\n",
    "plt.title('Number of Hearings per Proceeding w/ JCI Adournment Code')\n",
    "plt.xlabel('Number of Hearings w/ JCI Adjournment Code')\n",
    "plt.ylabel('Number of Proceedings')\n",
    "\n",
    "# Show plot\n",
    "plt.show()\n"
   ]
  },
  {
   "cell_type": "code",
   "execution_count": 68,
   "id": "91e5f78a-050b-4e3b-88b8-6497f0acf51e",
   "metadata": {},
   "outputs": [],
   "source": [
    "# similar information"
   ]
  },
  {
   "cell_type": "code",
   "execution_count": 215,
   "id": "bb55acb8-850a-459c-87cf-f2d2e9856400",
   "metadata": {},
   "outputs": [],
   "source": [
    "# what about the date distribution? \n",
    "# ADJ_DATE is the scheduled date of the hearing\n",
    "# INPUT_DATE results in a very similar graph. I may want to use this instead because it may be a better indicator"
   ]
  },
  {
   "cell_type": "code",
   "execution_count": 216,
   "id": "41bc4e9c-9e43-4f39-ab97-971a042d5b38",
   "metadata": {},
   "outputs": [],
   "source": [
    "# first for JCIS"
   ]
  },
  {
   "cell_type": "code",
   "execution_count": 217,
   "id": "cf1476bd-aebd-498c-9410-61dec759989f",
   "metadata": {},
   "outputs": [
    {
     "data": {
      "image/png": "[encoded data removed]",
      "text/plain": [
       "<Figure size 864x432 with 1 Axes>"
      ]
     },
     "metadata": {
      "needs_background": "light"
     },
     "output_type": "display_data"
    }
   ],
   "source": [
    "SCH_JPCA_62a['INPUT_DATE'] = pd.to_datetime(SCH_JPCA_62a['INPUT_DATE'])\n",
    "\n",
    "# Ensure 'ADJ_DATE' is the index\n",
    "SCH_JPCA_62b = SCH_JPCA_62a.set_index('INPUT_DATE')\n",
    "\n",
    "# Resample and count the number of adjourned hearings per month\n",
    "count_per_month = SCH_JPCA_62b.resample('M').size()\n",
    "\n",
    "# Plot the results\n",
    "count_per_month.plot(kind='line', figsize=(12, 6))\n",
    "plt.title('Number of JCI Adjourned Hearings per Month')\n",
    "plt.ylabel('Number of Adjourned Hearings')\n",
    "plt.xlabel('Month')\n",
    "plt.show()\n"
   ]
  },
  {
   "cell_type": "code",
   "execution_count": 218,
   "id": "6294bf16-7924-4815-befd-3b43621e4082",
   "metadata": {},
   "outputs": [
    {
     "data": {
      "image/png": "[encoded data removed]",
      "text/plain": [
       "<Figure size 864x432 with 1 Axes>"
      ]
     },
     "metadata": {
      "needs_background": "light"
     },
     "output_type": "display_data"
    }
   ],
   "source": [
    "# Calculate 3-month moving average\n",
    "count_per_month_smoothed = count_per_month.rolling(window=3).mean()\n",
    "\n",
    "# Plot the results\n",
    "count_per_month_smoothed.plot(kind='line', figsize=(12, 6))\n",
    "plt.title('3-Month Moving Average of Number of JCI Adjourned Hearings per Month')\n",
    "plt.ylabel('Number of Adjourned Hearings')\n",
    "plt.xlabel('Month')\n",
    "plt.show()\n"
   ]
  },
  {
   "cell_type": "code",
   "execution_count": 219,
   "id": "53fd89e4-1a8b-43e5-a1e0-ae55c12833aa",
   "metadata": {},
   "outputs": [],
   "source": [
    "# Now JCIs for those that got a QR later"
   ]
  },
  {
   "cell_type": "code",
   "execution_count": 220,
   "id": "bf348bdb-04d6-4044-b9e3-8c129f85ed54",
   "metadata": {},
   "outputs": [
    {
     "data": {
      "image/png": "[encoded data removed]",
      "text/plain": [
       "<Figure size 864x432 with 1 Axes>"
      ]
     },
     "metadata": {
      "needs_background": "light"
     },
     "output_type": "display_data"
    }
   ],
   "source": [
    "SCH_QPCA_62a['INPUT_DATE'] = pd.to_datetime(SCH_QPCA_62a['INPUT_DATE'])\n",
    "\n",
    "# Ensure 'ADJ_DATE' is the index\n",
    "SCH_QPCA_62b = SCH_QPCA_62a.set_index('INPUT_DATE')\n",
    "\n",
    "# Resample and count the number of adjourned hearings per month\n",
    "count_per_month = SCH_QPCA_62b.resample('M').size()\n",
    "\n",
    "# Plot the results\n",
    "count_per_month.plot(kind='line', figsize=(12, 6))\n",
    "plt.title('Number of JCI Adjourned Hearings per Month')\n",
    "plt.ylabel('Number of Adjourned Hearings')\n",
    "plt.xlabel('Month')\n",
    "plt.show()"
   ]
  },
  {
   "cell_type": "code",
   "execution_count": 221,
   "id": "18a35ac5-2536-430f-a7ae-1de2124e588f",
   "metadata": {},
   "outputs": [
    {
     "data": {
      "image/png": "[encoded data removed]",
      "text/plain": [
       "<Figure size 864x432 with 1 Axes>"
      ]
     },
     "metadata": {
      "needs_background": "light"
     },
     "output_type": "display_data"
    }
   ],
   "source": [
    "# Calculate 3-month moving average\n",
    "count_per_month_smoothed = count_per_month.rolling(window=3).mean()\n",
    "\n",
    "# Plot the results\n",
    "count_per_month_smoothed.plot(kind='line', figsize=(12, 6))\n",
    "plt.title('3-Month Moving Average of Number of JCI Adjourned Hearings per Month')\n",
    "plt.ylabel('Number of Adjourned Hearings')\n",
    "plt.xlabel('Month')\n",
    "plt.show()"
   ]
  },
  {
   "cell_type": "code",
   "execution_count": 222,
   "id": "b14b35f1-be66-49a1-8cea-b777988d143c",
   "metadata": {},
   "outputs": [],
   "source": [
    "# now for QRs"
   ]
  },
  {
   "cell_type": "code",
   "execution_count": 244,
   "id": "d2ab8fbe-766d-42d0-99f5-251d7176b12a",
   "metadata": {},
   "outputs": [
    {
     "data": {
      "image/png": "[encoded data removed]",
      "text/plain": [
       "<Figure size 864x432 with 1 Axes>"
      ]
     },
     "metadata": {
      "needs_background": "light"
     },
     "output_type": "display_data"
    }
   ],
   "source": [
    "SCH_QPCA_61['INPUT_DATE'] = pd.to_datetime(SCH_QPCA_61['INPUT_DATE'])\n",
    "SCH_QPCA_61a = SCH_QPCA_61.drop_duplicates(subset=['IDNPROCEEDING', 'ADJ_DATE'])\n",
    "\n",
    "# Ensure 'ADJ_DATE' is the index\n",
    "SCH_QPCA_61b = SCH_QPCA_61a.set_index('INPUT_DATE')\n",
    "\n",
    "\n",
    "# Resample and count the number of adjourned hearings per month\n",
    "count_per_month = SCH_QPCA_61b.resample('M').size()\n",
    "\n",
    "# Plot the results\n",
    "count_per_month.plot(kind='line', figsize=(12, 6))\n",
    "plt.title('Number of QR Adjourned Hearings per Month')\n",
    "plt.ylabel('Number of Adjourned Hearings')\n",
    "plt.xlabel('Month')\n",
    "plt.show()"
   ]
  },
  {
   "cell_type": "code",
   "execution_count": 224,
   "id": "70c3542c-e1b8-48db-86f9-93c792116510",
   "metadata": {},
   "outputs": [
    {
     "data": {
      "image/png": "[encoded data removed]",
      "text/plain": [
       "<Figure size 864x432 with 1 Axes>"
      ]
     },
     "metadata": {
      "needs_background": "light"
     },
     "output_type": "display_data"
    }
   ],
   "source": [
    "# Calculate 3-month moving average\n",
    "count_per_month_smoothed = count_per_month.rolling(window=3).mean()\n",
    "\n",
    "# Plot the results\n",
    "count_per_month_smoothed.plot(kind='line', figsize=(12, 6))\n",
    "plt.title('3-Month Moving Average of Number of QR Adjourned Hearings per Month')\n",
    "plt.ylabel('Number of Adjourned Hearings')\n",
    "plt.xlabel('Month')\n",
    "plt.show()"
   ]
  },
  {
   "cell_type": "code",
   "execution_count": 225,
   "id": "b2942edc-b1fd-4efd-b482-cf785cc5ee30",
   "metadata": {},
   "outputs": [],
   "source": [
    "# definitely looks like # of JCI and QR appointments is decreasing over time - solid peak in 2018"
   ]
  },
  {
   "cell_type": "code",
   "execution_count": 226,
   "id": "cb66a44f-b4d7-4e64-8a81-defc702c0689",
   "metadata": {},
   "outputs": [],
   "source": [
    "# TODO\n",
    "# grant rate of JCI and QR - over time\n",
    "# time between JCI # 1 and QR\n"
   ]
  },
  {
   "cell_type": "code",
   "execution_count": 227,
   "id": "e808145f-5285-4e24-9e4a-596606255e5d",
   "metadata": {},
   "outputs": [],
   "source": [
    "# time between JCI # 1 and QR\n",
    "\n",
    "filtered_df = SCH_JPCA[SCH_JPCA['ADJ_RSN'].isin(['62', '61'])]\n",
    "filtered_df = filtered_df.sort_values(['IDNPROCEEDING', 'ADJ_DATE'])\n",
    "grouped_dates = filtered_df.groupby(['IDNPROCEEDING', 'ADJ_RSN'])['ADJ_DATE'].first().unstack()\n",
    "grouped_dates['time_diff'] = (grouped_dates['61'] - grouped_dates['62']).dt.days\n"
   ]
  },
  {
   "cell_type": "code",
   "execution_count": 228,
   "id": "057d8d3e-ccc1-4f3c-8396-7c25437b622a",
   "metadata": {},
   "outputs": [
    {
     "data": {
      "text/html": [
       "<div>\n",
       "<style scoped>\n",
       "    .dataframe tbody tr th:only-of-type {\n",
       "        vertical-align: middle;\n",
       "    }\n",
       "\n",
       "    .dataframe tbody tr th {\n",
       "        vertical-align: top;\n",
       "    }\n",
       "\n",
       "    .dataframe thead th {\n",
       "        text-align: right;\n",
       "    }\n",
       "</style>\n",
       "<table border=\"1\" class=\"dataframe\">\n",
       "  <thead>\n",
       "    <tr style=\"text-align: right;\">\n",
       "      <th>ADJ_RSN</th>\n",
       "      <th>61</th>\n",
       "      <th>62</th>\n",
       "      <th>time_diff</th>\n",
       "    </tr>\n",
       "    <tr>\n",
       "      <th>IDNPROCEEDING</th>\n",
       "      <th></th>\n",
       "      <th></th>\n",
       "      <th></th>\n",
       "    </tr>\n",
       "  </thead>\n",
       "  <tbody>\n",
       "    <tr>\n",
       "      <th>6774182</th>\n",
       "      <td>2015-02-10</td>\n",
       "      <td>2015-03-04</td>\n",
       "      <td>-22.0</td>\n",
       "    </tr>\n",
       "    <tr>\n",
       "      <th>6788152</th>\n",
       "      <td>2015-03-03</td>\n",
       "      <td>2015-03-25</td>\n",
       "      <td>-22.0</td>\n",
       "    </tr>\n",
       "    <tr>\n",
       "      <th>6866513</th>\n",
       "      <td>2015-06-10</td>\n",
       "      <td>2015-06-16</td>\n",
       "      <td>-6.0</td>\n",
       "    </tr>\n",
       "    <tr>\n",
       "      <th>6866868</th>\n",
       "      <td>2015-09-16</td>\n",
       "      <td>2015-10-15</td>\n",
       "      <td>-29.0</td>\n",
       "    </tr>\n",
       "    <tr>\n",
       "      <th>6944222</th>\n",
       "      <td>2015-08-05</td>\n",
       "      <td>2015-09-02</td>\n",
       "      <td>-28.0</td>\n",
       "    </tr>\n",
       "  </tbody>\n",
       "</table>\n",
       "</div>"
      ],
      "text/plain": [
       "ADJ_RSN                61          62  time_diff\n",
       "IDNPROCEEDING                                   \n",
       "6774182        2015-02-10  2015-03-04      -22.0\n",
       "6788152        2015-03-03  2015-03-25      -22.0\n",
       "6866513        2015-06-10  2015-06-16       -6.0\n",
       "6866868        2015-09-16  2015-10-15      -29.0\n",
       "6944222        2015-08-05  2015-09-02      -28.0"
      ]
     },
     "execution_count": 228,
     "metadata": {},
     "output_type": "execute_result"
    }
   ],
   "source": [
    "grouped_dates[grouped_dates.time_diff<0].head()"
   ]
  },
  {
   "cell_type": "code",
   "execution_count": 229,
   "id": "7dfb0057-4ad3-4e9e-a8a3-8f159d3ba506",
   "metadata": {},
   "outputs": [
    {
     "data": {
      "text/html": [
       "<div>\n",
       "<style scoped>\n",
       "    .dataframe tbody tr th:only-of-type {\n",
       "        vertical-align: middle;\n",
       "    }\n",
       "\n",
       "    .dataframe tbody tr th {\n",
       "        vertical-align: top;\n",
       "    }\n",
       "\n",
       "    .dataframe thead th {\n",
       "        text-align: right;\n",
       "    }\n",
       "</style>\n",
       "<table border=\"1\" class=\"dataframe\">\n",
       "  <thead>\n",
       "    <tr style=\"text-align: right;\">\n",
       "      <th>ADJ_RSN</th>\n",
       "      <th>time_diff</th>\n",
       "    </tr>\n",
       "  </thead>\n",
       "  <tbody>\n",
       "    <tr>\n",
       "      <th>count</th>\n",
       "      <td>462.000000</td>\n",
       "    </tr>\n",
       "    <tr>\n",
       "      <th>mean</th>\n",
       "      <td>36.129870</td>\n",
       "    </tr>\n",
       "    <tr>\n",
       "      <th>std</th>\n",
       "      <td>36.085287</td>\n",
       "    </tr>\n",
       "    <tr>\n",
       "      <th>min</th>\n",
       "      <td>1.000000</td>\n",
       "    </tr>\n",
       "    <tr>\n",
       "      <th>25%</th>\n",
       "      <td>14.000000</td>\n",
       "    </tr>\n",
       "    <tr>\n",
       "      <th>50%</th>\n",
       "      <td>21.000000</td>\n",
       "    </tr>\n",
       "    <tr>\n",
       "      <th>75%</th>\n",
       "      <td>51.000000</td>\n",
       "    </tr>\n",
       "    <tr>\n",
       "      <th>max</th>\n",
       "      <td>247.000000</td>\n",
       "    </tr>\n",
       "  </tbody>\n",
       "</table>\n",
       "</div>"
      ],
      "text/plain": [
       "ADJ_RSN   time_diff\n",
       "count    462.000000\n",
       "mean      36.129870\n",
       "std       36.085287\n",
       "min        1.000000\n",
       "25%       14.000000\n",
       "50%       21.000000\n",
       "75%       51.000000\n",
       "max      247.000000"
      ]
     },
     "execution_count": 229,
     "metadata": {},
     "output_type": "execute_result"
    }
   ],
   "source": [
    "grouped_dates[grouped_dates.time_diff>0].describe()"
   ]
  },
  {
   "cell_type": "code",
   "execution_count": 333,
   "id": "9f67a8af-3574-471c-925f-7c98dd354c99",
   "metadata": {},
   "outputs": [],
   "source": [
    "filtered_df = SCH_JPCA[SCH_JPCA['ADJ_RSN'].isin(['62', '61'])]\n",
    "filtered_df = filtered_df.sort_values(['IDNPROCEEDING', 'INPUT_DATE'])\n",
    "grouped_dates = filtered_df.groupby(['IDNPROCEEDING', 'ADJ_RSN'])['INPUT_DATE'].first().unstack()\n",
    "grouped_dates['time_diff_days'] = (grouped_dates['61'] - grouped_dates['62']).dt.days\n"
   ]
  },
  {
   "cell_type": "code",
   "execution_count": 335,
   "id": "9cb16da6-3368-4b7e-96c4-2b81d19d32b5",
   "metadata": {},
   "outputs": [
    {
     "data": {
      "text/html": [
       "<div>\n",
       "<style scoped>\n",
       "    .dataframe tbody tr th:only-of-type {\n",
       "        vertical-align: middle;\n",
       "    }\n",
       "\n",
       "    .dataframe tbody tr th {\n",
       "        vertical-align: top;\n",
       "    }\n",
       "\n",
       "    .dataframe thead th {\n",
       "        text-align: right;\n",
       "    }\n",
       "</style>\n",
       "<table border=\"1\" class=\"dataframe\">\n",
       "  <thead>\n",
       "    <tr style=\"text-align: right;\">\n",
       "      <th>ADJ_RSN</th>\n",
       "      <th>61</th>\n",
       "      <th>62</th>\n",
       "      <th>time_diff_days</th>\n",
       "    </tr>\n",
       "    <tr>\n",
       "      <th>IDNPROCEEDING</th>\n",
       "      <th></th>\n",
       "      <th></th>\n",
       "      <th></th>\n",
       "    </tr>\n",
       "  </thead>\n",
       "  <tbody>\n",
       "    <tr>\n",
       "      <th>7569126</th>\n",
       "      <td>2017-03-13</td>\n",
       "      <td>2017-03-14</td>\n",
       "      <td>-1.0</td>\n",
       "    </tr>\n",
       "    <tr>\n",
       "      <th>7851290</th>\n",
       "      <td>2017-10-18</td>\n",
       "      <td>2017-10-23</td>\n",
       "      <td>-5.0</td>\n",
       "    </tr>\n",
       "  </tbody>\n",
       "</table>\n",
       "</div>"
      ],
      "text/plain": [
       "ADJ_RSN               61         62  time_diff_days\n",
       "IDNPROCEEDING                                      \n",
       "7569126       2017-03-13 2017-03-14            -1.0\n",
       "7851290       2017-10-18 2017-10-23            -5.0"
      ]
     },
     "execution_count": 335,
     "metadata": {},
     "output_type": "execute_result"
    }
   ],
   "source": [
    "grouped_dates[grouped_dates.time_diff_days<0].head()"
   ]
  },
  {
   "cell_type": "code",
   "execution_count": 336,
   "id": "20c7a92f-2d55-47ff-8440-ef128d767cd2",
   "metadata": {},
   "outputs": [
    {
     "data": {
      "text/html": [
       "<div>\n",
       "<style scoped>\n",
       "    .dataframe tbody tr th:only-of-type {\n",
       "        vertical-align: middle;\n",
       "    }\n",
       "\n",
       "    .dataframe tbody tr th {\n",
       "        vertical-align: top;\n",
       "    }\n",
       "\n",
       "    .dataframe thead th {\n",
       "        text-align: right;\n",
       "    }\n",
       "</style>\n",
       "<table border=\"1\" class=\"dataframe\">\n",
       "  <thead>\n",
       "    <tr style=\"text-align: right;\">\n",
       "      <th>ADJ_RSN</th>\n",
       "      <th>time_diff_days</th>\n",
       "    </tr>\n",
       "  </thead>\n",
       "  <tbody>\n",
       "    <tr>\n",
       "      <th>count</th>\n",
       "      <td>488.00</td>\n",
       "    </tr>\n",
       "    <tr>\n",
       "      <th>mean</th>\n",
       "      <td>36.16</td>\n",
       "    </tr>\n",
       "    <tr>\n",
       "      <th>std</th>\n",
       "      <td>35.80</td>\n",
       "    </tr>\n",
       "    <tr>\n",
       "      <th>min</th>\n",
       "      <td>1.00</td>\n",
       "    </tr>\n",
       "    <tr>\n",
       "      <th>25%</th>\n",
       "      <td>13.00</td>\n",
       "    </tr>\n",
       "    <tr>\n",
       "      <th>50%</th>\n",
       "      <td>24.50</td>\n",
       "    </tr>\n",
       "    <tr>\n",
       "      <th>75%</th>\n",
       "      <td>43.00</td>\n",
       "    </tr>\n",
       "    <tr>\n",
       "      <th>max</th>\n",
       "      <td>278.00</td>\n",
       "    </tr>\n",
       "  </tbody>\n",
       "</table>\n",
       "</div>"
      ],
      "text/plain": [
       "ADJ_RSN  time_diff_days\n",
       "count            488.00\n",
       "mean              36.16\n",
       "std               35.80\n",
       "min                1.00\n",
       "25%               13.00\n",
       "50%               24.50\n",
       "75%               43.00\n",
       "max              278.00"
      ]
     },
     "execution_count": 336,
     "metadata": {},
     "output_type": "execute_result"
    }
   ],
   "source": [
    "# this is a good table\n",
    "\n",
    "round(grouped_dates[grouped_dates.time_diff_days>0].describe(), 2)"
   ]
  },
  {
   "cell_type": "code",
   "execution_count": 233,
   "id": "91b79e05-2b0f-4f9e-b339-93635a70e002",
   "metadata": {},
   "outputs": [],
   "source": [
    "# very annoyingly, going off ADJ_DATE frequently shows QRs appointed before JCIs. \n",
    "# going off INPUT_DATE eliminates this somewhat\n",
    "# will try to calculate avg for values > 0 for both to see if there is any meaningful difference\n",
    "# the values are somewhat similar. I feel like trusting input date a little more but hard to tell. "
   ]
  },
  {
   "cell_type": "code",
   "execution_count": 235,
   "id": "a0f53a74-fd9f-42a6-8cf0-6feb01caa34f",
   "metadata": {},
   "outputs": [],
   "source": [
    "# grant rate"
   ]
  },
  {
   "cell_type": "code",
   "execution_count": 257,
   "id": "0c121e98-278c-434e-b781-7358e1ef9301",
   "metadata": {},
   "outputs": [
    {
     "name": "stderr",
     "output_type": "stream",
     "text": [
      "/var/folders/nq/c298dxfn1sgcvrvkkcwthl980000gn/T/ipykernel_33405/2423697175.py:3: SettingWithCopyWarning: \n",
      "A value is trying to be set on a copy of a slice from a DataFrame.\n",
      "Try using .loc[row_indexer,col_indexer] = value instead\n",
      "\n",
      "See the caveats in the documentation: https://pandas.pydata.org/pandas-docs/stable/user_guide/indexing.html#returning-a-view-versus-a-copy\n",
      "  df_62['granted'] = df_62['IDNPROCEEDING'].isin(df_61['IDNPROCEEDING'])\n",
      "/var/folders/nq/c298dxfn1sgcvrvkkcwthl980000gn/T/ipykernel_33405/2423697175.py:4: SettingWithCopyWarning: \n",
      "A value is trying to be set on a copy of a slice from a DataFrame.\n",
      "Try using .loc[row_indexer,col_indexer] = value instead\n",
      "\n",
      "See the caveats in the documentation: https://pandas.pydata.org/pandas-docs/stable/user_guide/indexing.html#returning-a-view-versus-a-copy\n",
      "  df_62['INPUT_DATE'] = pd.to_datetime(df_62['INPUT_DATE'])\n"
     ]
    },
    {
     "data": {
      "image/png": "[encoded data removed]",
      "text/plain": [
       "<Figure size 864x432 with 1 Axes>"
      ]
     },
     "metadata": {
      "needs_background": "light"
     },
     "output_type": "display_data"
    }
   ],
   "source": [
    "df_62 = SCH_JPCA_62a.drop_duplicates('IDNPROCEEDING', keep='first')\n",
    "df_61 = SCH_QPCA_61a.drop_duplicates('IDNPROCEEDING', keep='first')\n",
    "df_62['granted'] = df_62['IDNPROCEEDING'].isin(df_61['IDNPROCEEDING'])\n",
    "df_62['INPUT_DATE'] = pd.to_datetime(df_62['INPUT_DATE'])\n",
    "df_62.set_index('INPUT_DATE', inplace=True)\n",
    "quarterly_grant_rate = df_62.resample('m')['granted'].mean()\n",
    "quarterly_grant_rate.plot(kind='line', figsize=(12, 6))\n",
    "plt.title('Grant Rate Over Time (Quarterly)')\n",
    "plt.ylabel('Grant Rate')\n",
    "plt.xlabel('Date')\n",
    "plt.show()\n",
    "\n"
   ]
  },
  {
   "cell_type": "code",
   "execution_count": null,
   "id": "297f2cb6-9963-4a61-a22d-996ecd2def83",
   "metadata": {},
   "outputs": [],
   "source": [
    "# per IJ"
   ]
  },
  {
   "cell_type": "code",
   "execution_count": 328,
   "id": "78359160-91a7-44e9-b91e-6556669b2d6b",
   "metadata": {},
   "outputs": [
    {
     "name": "stderr",
     "output_type": "stream",
     "text": [
      "/var/folders/nq/c298dxfn1sgcvrvkkcwthl980000gn/T/ipykernel_33405/4224647383.py:3: SettingWithCopyWarning: \n",
      "A value is trying to be set on a copy of a slice from a DataFrame.\n",
      "Try using .loc[row_indexer,col_indexer] = value instead\n",
      "\n",
      "See the caveats in the documentation: https://pandas.pydata.org/pandas-docs/stable/user_guide/indexing.html#returning-a-view-versus-a-copy\n",
      "  df_62['granted'] = df_62['IDNPROCEEDING'].isin(df_61['IDNPROCEEDING'])\n",
      "/var/folders/nq/c298dxfn1sgcvrvkkcwthl980000gn/T/ipykernel_33405/4224647383.py:4: SettingWithCopyWarning: \n",
      "A value is trying to be set on a copy of a slice from a DataFrame.\n",
      "Try using .loc[row_indexer,col_indexer] = value instead\n",
      "\n",
      "See the caveats in the documentation: https://pandas.pydata.org/pandas-docs/stable/user_guide/indexing.html#returning-a-view-versus-a-copy\n",
      "  df_62['INPUT_DATE'] = pd.to_datetime(df_62['INPUT_DATE'])\n"
     ]
    }
   ],
   "source": [
    "df_62 = SCH_JPCA_62a.drop_duplicates('IDNPROCEEDING', keep='last') # keeping last instead of first to account for any changes in IJ between JCIs, if any\n",
    "df_61 = SCH_QPCA_61a.drop_duplicates('IDNPROCEEDING', keep='first')\n",
    "df_62['granted'] = df_62['IDNPROCEEDING'].isin(df_61['IDNPROCEEDING'])\n",
    "df_62['INPUT_DATE'] = pd.to_datetime(df_62['INPUT_DATE'])\n",
    "df_62.set_index('INPUT_DATE', inplace=True)"
   ]
  },
  {
   "cell_type": "code",
   "execution_count": 366,
   "id": "5604a834-03cd-4a47-a23e-876bddc78e76",
   "metadata": {},
   "outputs": [],
   "source": [
    "# Let's assume 'n' is the threshold value for the minimum number of cases\n",
    "n = 10\n",
    "\n",
    "# First, get the count of cases per IJ\n",
    "cases_per_IJ = df_62.groupby('IJ_CODE')['IDNPROCEEDING'].count()\n",
    "\n",
    "# Filter out IJs with less than 'n' cases\n",
    "valid_IJs = cases_per_IJ[cases_per_IJ >= n].index\n",
    "valid_IJs_series = cases_per_IJ[cases_per_IJ >= n]\n",
    "\n",
    "# Recalculate the grant rate, but now only considering valid IJs\n",
    "valid_cases = df_62[df_62['IJ_CODE'].isin(valid_IJs)]\n",
    "granted_cases_by_IJ_CODE = valid_cases[valid_cases['granted']]['IJ_CODE'].value_counts()\n",
    "total_cases_by_IJ_CODE = valid_cases['IJ_CODE'].value_counts()\n",
    "grant_rate_by_IJ_CODE = granted_cases_by_IJ_CODE / total_cases_by_IJ_CODE\n",
    "\n",
    "# Sort in descending order and multiply by 100 for percentage\n",
    "grant_rate_by_IJ_CODE = round(grant_rate_by_IJ_CODE.sort_values(ascending=False) * 100, 1)\n",
    "\n",
    "# Convert the index to a Series\n",
    "valid_IJs_series = pd.Series(valid_IJs_series, name='CASE_COUNT')\n",
    "\n",
    "# Combine the two series into a DataFrame\n",
    "df_IJ_valid_stats = pd.concat([valid_IJs_series, grant_rate_by_IJ_CODE], axis=1)\n",
    "df_IJ_valid_stats = df_IJ_valid_stats.reset_index()\n",
    "df_IJ_valid_stats = df_IJ_valid_stats.rename(columns={'IJ_CODE':'QR_RATE', 'index':'IJ_CODE'})\n",
    "df_IJ_valid_stats = df_IJ_valid_stats.sort_values('CASE_COUNT', ascending=False)\n",
    "df_IJ_valid_stats.fillna(0, inplace=True)\n"
   ]
  },
  {
   "cell_type": "code",
   "execution_count": 367,
   "id": "cc17b9fa-e124-40e7-ae8a-d8249e1dd690",
   "metadata": {},
   "outputs": [
    {
     "data": {
      "text/html": [
       "<div>\n",
       "<style scoped>\n",
       "    .dataframe tbody tr th:only-of-type {\n",
       "        vertical-align: middle;\n",
       "    }\n",
       "\n",
       "    .dataframe tbody tr th {\n",
       "        vertical-align: top;\n",
       "    }\n",
       "\n",
       "    .dataframe thead th {\n",
       "        text-align: right;\n",
       "    }\n",
       "</style>\n",
       "<table border=\"1\" class=\"dataframe\">\n",
       "  <thead>\n",
       "    <tr style=\"text-align: right;\">\n",
       "      <th></th>\n",
       "      <th>IJ_CODE</th>\n",
       "      <th>CASE_COUNT</th>\n",
       "      <th>QR_RATE</th>\n",
       "    </tr>\n",
       "  </thead>\n",
       "  <tbody>\n",
       "    <tr>\n",
       "      <th>18</th>\n",
       "      <td>KWR</td>\n",
       "      <td>165</td>\n",
       "      <td>33.3</td>\n",
       "    </tr>\n",
       "    <tr>\n",
       "      <th>33</th>\n",
       "      <td>ZZD</td>\n",
       "      <td>73</td>\n",
       "      <td>34.2</td>\n",
       "    </tr>\n",
       "    <tr>\n",
       "      <th>2</th>\n",
       "      <td>ATL</td>\n",
       "      <td>69</td>\n",
       "      <td>43.5</td>\n",
       "    </tr>\n",
       "    <tr>\n",
       "      <th>12</th>\n",
       "      <td>JCL</td>\n",
       "      <td>69</td>\n",
       "      <td>14.5</td>\n",
       "    </tr>\n",
       "    <tr>\n",
       "      <th>1</th>\n",
       "      <td>ASM</td>\n",
       "      <td>64</td>\n",
       "      <td>26.6</td>\n",
       "    </tr>\n",
       "    <tr>\n",
       "      <th>27</th>\n",
       "      <td>SS2</td>\n",
       "      <td>60</td>\n",
       "      <td>36.7</td>\n",
       "    </tr>\n",
       "    <tr>\n",
       "      <th>11</th>\n",
       "      <td>IRS</td>\n",
       "      <td>53</td>\n",
       "      <td>47.2</td>\n",
       "    </tr>\n",
       "    <tr>\n",
       "      <th>14</th>\n",
       "      <td>JML</td>\n",
       "      <td>49</td>\n",
       "      <td>46.9</td>\n",
       "    </tr>\n",
       "    <tr>\n",
       "      <th>26</th>\n",
       "      <td>SJS</td>\n",
       "      <td>45</td>\n",
       "      <td>37.8</td>\n",
       "    </tr>\n",
       "    <tr>\n",
       "      <th>0</th>\n",
       "      <td>APA</td>\n",
       "      <td>45</td>\n",
       "      <td>62.2</td>\n",
       "    </tr>\n",
       "    <tr>\n",
       "      <th>9</th>\n",
       "      <td>EHM</td>\n",
       "      <td>45</td>\n",
       "      <td>46.7</td>\n",
       "    </tr>\n",
       "    <tr>\n",
       "      <th>13</th>\n",
       "      <td>JLN</td>\n",
       "      <td>44</td>\n",
       "      <td>11.4</td>\n",
       "    </tr>\n",
       "    <tr>\n",
       "      <th>15</th>\n",
       "      <td>JPJ</td>\n",
       "      <td>43</td>\n",
       "      <td>51.2</td>\n",
       "    </tr>\n",
       "    <tr>\n",
       "      <th>4</th>\n",
       "      <td>BDP</td>\n",
       "      <td>43</td>\n",
       "      <td>48.8</td>\n",
       "    </tr>\n",
       "    <tr>\n",
       "      <th>6</th>\n",
       "      <td>CAB</td>\n",
       "      <td>42</td>\n",
       "      <td>16.7</td>\n",
       "    </tr>\n",
       "    <tr>\n",
       "      <th>23</th>\n",
       "      <td>PSO</td>\n",
       "      <td>37</td>\n",
       "      <td>18.9</td>\n",
       "    </tr>\n",
       "    <tr>\n",
       "      <th>28</th>\n",
       "      <td>TRE</td>\n",
       "      <td>36</td>\n",
       "      <td>47.2</td>\n",
       "    </tr>\n",
       "    <tr>\n",
       "      <th>8</th>\n",
       "      <td>CHR</td>\n",
       "      <td>34</td>\n",
       "      <td>64.7</td>\n",
       "    </tr>\n",
       "    <tr>\n",
       "      <th>7</th>\n",
       "      <td>CEM</td>\n",
       "      <td>34</td>\n",
       "      <td>14.7</td>\n",
       "    </tr>\n",
       "    <tr>\n",
       "      <th>24</th>\n",
       "      <td>RBM</td>\n",
       "      <td>32</td>\n",
       "      <td>37.5</td>\n",
       "    </tr>\n",
       "    <tr>\n",
       "      <th>29</th>\n",
       "      <td>VAB</td>\n",
       "      <td>29</td>\n",
       "      <td>48.3</td>\n",
       "    </tr>\n",
       "    <tr>\n",
       "      <th>17</th>\n",
       "      <td>JYP</td>\n",
       "      <td>28</td>\n",
       "      <td>17.9</td>\n",
       "    </tr>\n",
       "    <tr>\n",
       "      <th>22</th>\n",
       "      <td>OEA</td>\n",
       "      <td>26</td>\n",
       "      <td>61.5</td>\n",
       "    </tr>\n",
       "    <tr>\n",
       "      <th>21</th>\n",
       "      <td>NNA</td>\n",
       "      <td>25</td>\n",
       "      <td>8.0</td>\n",
       "    </tr>\n",
       "    <tr>\n",
       "      <th>20</th>\n",
       "      <td>NBW</td>\n",
       "      <td>20</td>\n",
       "      <td>20.0</td>\n",
       "    </tr>\n",
       "    <tr>\n",
       "      <th>19</th>\n",
       "      <td>MB2</td>\n",
       "      <td>17</td>\n",
       "      <td>29.4</td>\n",
       "    </tr>\n",
       "    <tr>\n",
       "      <th>3</th>\n",
       "      <td>BB2</td>\n",
       "      <td>16</td>\n",
       "      <td>50.0</td>\n",
       "    </tr>\n",
       "    <tr>\n",
       "      <th>31</th>\n",
       "      <td>VRW</td>\n",
       "      <td>16</td>\n",
       "      <td>25.0</td>\n",
       "    </tr>\n",
       "    <tr>\n",
       "      <th>16</th>\n",
       "      <td>JVJ</td>\n",
       "      <td>13</td>\n",
       "      <td>0.0</td>\n",
       "    </tr>\n",
       "    <tr>\n",
       "      <th>30</th>\n",
       "      <td>VLA</td>\n",
       "      <td>13</td>\n",
       "      <td>0.0</td>\n",
       "    </tr>\n",
       "    <tr>\n",
       "      <th>32</th>\n",
       "      <td>VSV</td>\n",
       "      <td>13</td>\n",
       "      <td>7.7</td>\n",
       "    </tr>\n",
       "    <tr>\n",
       "      <th>10</th>\n",
       "      <td>FMT</td>\n",
       "      <td>13</td>\n",
       "      <td>46.2</td>\n",
       "    </tr>\n",
       "    <tr>\n",
       "      <th>5</th>\n",
       "      <td>BV1</td>\n",
       "      <td>12</td>\n",
       "      <td>0.0</td>\n",
       "    </tr>\n",
       "    <tr>\n",
       "      <th>25</th>\n",
       "      <td>RKP</td>\n",
       "      <td>10</td>\n",
       "      <td>20.0</td>\n",
       "    </tr>\n",
       "  </tbody>\n",
       "</table>\n",
       "</div>"
      ],
      "text/plain": [
       "   IJ_CODE  CASE_COUNT  QR_RATE\n",
       "18     KWR         165     33.3\n",
       "33     ZZD          73     34.2\n",
       "2      ATL          69     43.5\n",
       "12     JCL          69     14.5\n",
       "1      ASM          64     26.6\n",
       "27     SS2          60     36.7\n",
       "11     IRS          53     47.2\n",
       "14     JML          49     46.9\n",
       "26     SJS          45     37.8\n",
       "0      APA          45     62.2\n",
       "9      EHM          45     46.7\n",
       "13     JLN          44     11.4\n",
       "15     JPJ          43     51.2\n",
       "4      BDP          43     48.8\n",
       "6      CAB          42     16.7\n",
       "23     PSO          37     18.9\n",
       "28     TRE          36     47.2\n",
       "8      CHR          34     64.7\n",
       "7      CEM          34     14.7\n",
       "24     RBM          32     37.5\n",
       "29     VAB          29     48.3\n",
       "17     JYP          28     17.9\n",
       "22     OEA          26     61.5\n",
       "21     NNA          25      8.0\n",
       "20     NBW          20     20.0\n",
       "19     MB2          17     29.4\n",
       "3      BB2          16     50.0\n",
       "31     VRW          16     25.0\n",
       "16     JVJ          13      0.0\n",
       "30     VLA          13      0.0\n",
       "32     VSV          13      7.7\n",
       "10     FMT          13     46.2\n",
       "5      BV1          12      0.0\n",
       "25     RKP          10     20.0"
      ]
     },
     "execution_count": 367,
     "metadata": {},
     "output_type": "execute_result"
    }
   ],
   "source": [
    "# this is a good table\n",
    "\n",
    "df_IJ_valid_stats"
   ]
  },
  {
   "cell_type": "code",
   "execution_count": 338,
   "id": "1f2c753c-40ce-41b9-986f-07996e009373",
   "metadata": {},
   "outputs": [],
   "source": [
    "# by court"
   ]
  },
  {
   "cell_type": "code",
   "execution_count": 341,
   "id": "29ee993e-dd01-4150-8406-88e52507bf30",
   "metadata": {},
   "outputs": [
    {
     "name": "stderr",
     "output_type": "stream",
     "text": [
      "1000000it [00:00, 10664388.51it/s]     \n"
     ]
    }
   ],
   "source": [
    "hearing_loc = read_csv_with_progressbar('/Users/stjames/Dropbox/Pablo/data/EOIR TRAC JUNE/Lookup/tblLookupHloc.csv', sep='\\t',\n",
    "                              dtype='str',\n",
    "                              na_values=' ',\n",
    "                              on_bad_lines='skip',\n",
    "                              quoting=csv.QUOTE_NONE)"
   ]
  },
  {
   "cell_type": "code",
   "execution_count": 357,
   "id": "9c2c0969-2718-4f1d-9fac-cf6673187f6b",
   "metadata": {},
   "outputs": [],
   "source": [
    "n=10\n",
    "\n",
    "# First, get the count of cases per hloc\n",
    "cases_per_court = df_62.groupby('HEARING_LOC_CODE')['IDNPROCEEDING'].count()\n",
    "\n",
    "# Filter out IJs with less than 'n' cases\n",
    "valid_locs = cases_per_court[cases_per_court >= n].index\n",
    "valid_locs_series = cases_per_court[cases_per_court >= n]\n",
    "\n",
    "# Recalculate the grant rate, but now only considering valid IJs\n",
    "valid_cases = df_62[df_62['HEARING_LOC_CODE'].isin(valid_locs)]\n",
    "granted_cases_by_hloc = valid_cases[valid_cases['granted']]['HEARING_LOC_CODE'].value_counts()\n",
    "total_cases_by_hloc = valid_cases['HEARING_LOC_CODE'].value_counts()\n",
    "grant_rate_by_hloc = granted_cases_by_hloc / total_cases_by_hloc\n",
    "\n",
    "# Sort in descending order and multiply by 100 for percentage\n",
    "grant_rate_by_hloc = round(grant_rate_by_hloc.sort_values(ascending=False) * 100, 1)\n",
    "\n",
    "# Convert the index to a Series\n",
    "valid_locs_series = pd.Series(valid_locs_series, name='CASE_COUNT')\n",
    "\n",
    "# Combine the two series into a DataFrame\n",
    "df_hloc_valid_stats = pd.concat([valid_locs_series, grant_rate_by_hloc], axis=1)\n",
    "df_hloc_valid_stats = df_hloc_valid_stats.reset_index()\n",
    "df_hloc_valid_stats = df_hloc_valid_stats.rename(columns={'HEARING_LOC_CODE':'QR_RATE', 'index':'HEARING_LOC_CODE'})\n",
    "df_hloc_valid_stats = df_hloc_valid_stats.sort_values('CASE_COUNT', ascending=False)\n",
    "df_hloc_valid_stats.QR_RATE.fillna(0, inplace=True)"
   ]
  },
  {
   "cell_type": "code",
   "execution_count": 368,
   "id": "7b2ca8be-51c4-491d-8d0d-6ad44e93d9b1",
   "metadata": {},
   "outputs": [
    {
     "data": {
      "text/html": [
       "<div>\n",
       "<style scoped>\n",
       "    .dataframe tbody tr th:only-of-type {\n",
       "        vertical-align: middle;\n",
       "    }\n",
       "\n",
       "    .dataframe tbody tr th {\n",
       "        vertical-align: top;\n",
       "    }\n",
       "\n",
       "    .dataframe thead th {\n",
       "        text-align: right;\n",
       "    }\n",
       "</style>\n",
       "<table border=\"1\" class=\"dataframe\">\n",
       "  <thead>\n",
       "    <tr style=\"text-align: right;\">\n",
       "      <th></th>\n",
       "      <th>HEARING_LOC_CODE</th>\n",
       "      <th>CASE_COUNT</th>\n",
       "      <th>QR_RATE</th>\n",
       "    </tr>\n",
       "  </thead>\n",
       "  <tbody>\n",
       "    <tr>\n",
       "      <th>2</th>\n",
       "      <td>ADW</td>\n",
       "      <td>354</td>\n",
       "      <td>44.1</td>\n",
       "    </tr>\n",
       "    <tr>\n",
       "      <th>11</th>\n",
       "      <td>SFD</td>\n",
       "      <td>200</td>\n",
       "      <td>31.5</td>\n",
       "    </tr>\n",
       "    <tr>\n",
       "      <th>3</th>\n",
       "      <td>CCA</td>\n",
       "      <td>191</td>\n",
       "      <td>25.1</td>\n",
       "    </tr>\n",
       "    <tr>\n",
       "      <th>10</th>\n",
       "      <td>OTM</td>\n",
       "      <td>178</td>\n",
       "      <td>56.2</td>\n",
       "    </tr>\n",
       "    <tr>\n",
       "      <th>5</th>\n",
       "      <td>LA3</td>\n",
       "      <td>166</td>\n",
       "      <td>27.1</td>\n",
       "    </tr>\n",
       "    <tr>\n",
       "      <th>6</th>\n",
       "      <td>LOS</td>\n",
       "      <td>85</td>\n",
       "      <td>0.0</td>\n",
       "    </tr>\n",
       "    <tr>\n",
       "      <th>13</th>\n",
       "      <td>SFV</td>\n",
       "      <td>72</td>\n",
       "      <td>0.0</td>\n",
       "    </tr>\n",
       "    <tr>\n",
       "      <th>7</th>\n",
       "      <td>MCM</td>\n",
       "      <td>61</td>\n",
       "      <td>52.5</td>\n",
       "    </tr>\n",
       "    <tr>\n",
       "      <th>12</th>\n",
       "      <td>SFR</td>\n",
       "      <td>48</td>\n",
       "      <td>0.0</td>\n",
       "    </tr>\n",
       "    <tr>\n",
       "      <th>0</th>\n",
       "      <td>ADE</td>\n",
       "      <td>47</td>\n",
       "      <td>38.3</td>\n",
       "    </tr>\n",
       "    <tr>\n",
       "      <th>1</th>\n",
       "      <td>ADV</td>\n",
       "      <td>46</td>\n",
       "      <td>47.8</td>\n",
       "    </tr>\n",
       "    <tr>\n",
       "      <th>4</th>\n",
       "      <td>IPD</td>\n",
       "      <td>29</td>\n",
       "      <td>20.7</td>\n",
       "    </tr>\n",
       "    <tr>\n",
       "      <th>9</th>\n",
       "      <td>OCD</td>\n",
       "      <td>24</td>\n",
       "      <td>0.0</td>\n",
       "    </tr>\n",
       "    <tr>\n",
       "      <th>8</th>\n",
       "      <td>MVD</td>\n",
       "      <td>11</td>\n",
       "      <td>27.3</td>\n",
       "    </tr>\n",
       "    <tr>\n",
       "      <th>14</th>\n",
       "      <td>SNC</td>\n",
       "      <td>10</td>\n",
       "      <td>0.0</td>\n",
       "    </tr>\n",
       "  </tbody>\n",
       "</table>\n",
       "</div>"
      ],
      "text/plain": [
       "   HEARING_LOC_CODE  CASE_COUNT  QR_RATE\n",
       "2               ADW         354     44.1\n",
       "11              SFD         200     31.5\n",
       "3               CCA         191     25.1\n",
       "10              OTM         178     56.2\n",
       "5               LA3         166     27.1\n",
       "6               LOS          85      0.0\n",
       "13              SFV          72      0.0\n",
       "7               MCM          61     52.5\n",
       "12              SFR          48      0.0\n",
       "0               ADE          47     38.3\n",
       "1               ADV          46     47.8\n",
       "4               IPD          29     20.7\n",
       "9               OCD          24      0.0\n",
       "8               MVD          11     27.3\n",
       "14              SNC          10      0.0"
      ]
     },
     "execution_count": 368,
     "metadata": {},
     "output_type": "execute_result"
    }
   ],
   "source": [
    "# another good table\n",
    "\n",
    "# some locations absolutely no QRs granted?\n",
    "\n",
    "df_hloc_valid_stats"
   ]
  },
  {
   "cell_type": "code",
   "execution_count": 389,
   "id": "1b80f64e-ffe7-4aae-8ee9-5f0b850f68d9",
   "metadata": {},
   "outputs": [],
   "source": [
    "# is base city any diff? "
   ]
  },
  {
   "cell_type": "code",
   "execution_count": null,
   "id": "ba613ac5-e530-460b-b237-23704331bfe1",
   "metadata": {},
   "outputs": [],
   "source": [
    "# by LANG"
   ]
  },
  {
   "cell_type": "code",
   "execution_count": 385,
   "id": "621548b2-c5d3-4072-9db1-f2dcb4542503",
   "metadata": {},
   "outputs": [],
   "source": [
    "# First, get the count of cases per LANG\n",
    "cases_per_LANG = df_62.groupby('LANG')['IDNPROCEEDING'].count()\n",
    "\n",
    "# Filter out IJs with less than 'n' cases\n",
    "valid_LANG = cases_per_LANG.index\n",
    "valid_LANG_series = cases_per_LANG\n",
    "\n",
    "# Recalculate the grant rate, but now only considering valid IJs\n",
    "valid_cases = df_62[df_62['LANG'].isin(valid_LANG)]\n",
    "granted_cases_by_LANG = valid_cases[valid_cases['granted']]['LANG'].value_counts()\n",
    "total_cases_by_LANG = valid_cases['LANG'].value_counts()\n",
    "grant_rate_by_LANG = granted_cases_by_LANG / total_cases_by_LANG\n",
    "\n",
    "# Sort in descending order and multiply by 100 for percentage\n",
    "grant_rate_by_LANG = round(grant_rate_by_LANG.sort_values(ascending=False) * 100, 1)\n",
    "\n",
    "# Convert the index to a Series\n",
    "valid_LANG_series = pd.Series(valid_LANG_series, name='CASE_COUNT')\n",
    "\n",
    "# Combine the two series into a DataFrame\n",
    "df_LANG_valid_stats = pd.concat([valid_LANG_series, grant_rate_by_LANG], axis=1)\n",
    "df_LANG_valid_stats = df_LANG_valid_stats.reset_index()\n",
    "df_LANG_valid_stats = df_LANG_valid_stats.rename(columns={'LANG':'QR_RATE', 'index':'LANG'})\n",
    "df_LANG_valid_stats = df_LANG_valid_stats.sort_values(['CASE_COUNT', 'QR_RATE'], ascending=False)\n",
    "df_LANG_valid_stats.QR_RATE.fillna(0, inplace=True)"
   ]
  },
  {
   "cell_type": "code",
   "execution_count": 386,
   "id": "50f604f1-a524-4a21-be09-6bc5c0feaf3a",
   "metadata": {},
   "outputs": [
    {
     "data": {
      "text/html": [
       "<div>\n",
       "<style scoped>\n",
       "    .dataframe tbody tr th:only-of-type {\n",
       "        vertical-align: middle;\n",
       "    }\n",
       "\n",
       "    .dataframe tbody tr th {\n",
       "        vertical-align: top;\n",
       "    }\n",
       "\n",
       "    .dataframe thead th {\n",
       "        text-align: right;\n",
       "    }\n",
       "</style>\n",
       "<table border=\"1\" class=\"dataframe\">\n",
       "  <thead>\n",
       "    <tr style=\"text-align: right;\">\n",
       "      <th></th>\n",
       "      <th>LANG</th>\n",
       "      <th>CASE_COUNT</th>\n",
       "      <th>QR_RATE</th>\n",
       "    </tr>\n",
       "  </thead>\n",
       "  <tbody>\n",
       "    <tr>\n",
       "      <th>36</th>\n",
       "      <td>SP</td>\n",
       "      <td>995</td>\n",
       "      <td>32.6</td>\n",
       "    </tr>\n",
       "    <tr>\n",
       "      <th>9</th>\n",
       "      <td>ENG</td>\n",
       "      <td>401</td>\n",
       "      <td>32.7</td>\n",
       "    </tr>\n",
       "    <tr>\n",
       "      <th>31</th>\n",
       "      <td>PUN</td>\n",
       "      <td>24</td>\n",
       "      <td>12.5</td>\n",
       "    </tr>\n",
       "    <tr>\n",
       "      <th>7</th>\n",
       "      <td>CRE</td>\n",
       "      <td>10</td>\n",
       "      <td>40.0</td>\n",
       "    </tr>\n",
       "    <tr>\n",
       "      <th>1</th>\n",
       "      <td>AR</td>\n",
       "      <td>10</td>\n",
       "      <td>20.0</td>\n",
       "    </tr>\n",
       "    <tr>\n",
       "      <th>2</th>\n",
       "      <td>ARM</td>\n",
       "      <td>10</td>\n",
       "      <td>10.0</td>\n",
       "    </tr>\n",
       "    <tr>\n",
       "      <th>26</th>\n",
       "      <td>MAN</td>\n",
       "      <td>9</td>\n",
       "      <td>44.4</td>\n",
       "    </tr>\n",
       "    <tr>\n",
       "      <th>45</th>\n",
       "      <td>VIE</td>\n",
       "      <td>9</td>\n",
       "      <td>44.4</td>\n",
       "    </tr>\n",
       "    <tr>\n",
       "      <th>33</th>\n",
       "      <td>RUS</td>\n",
       "      <td>7</td>\n",
       "      <td>28.6</td>\n",
       "    </tr>\n",
       "    <tr>\n",
       "      <th>25</th>\n",
       "      <td>MAM</td>\n",
       "      <td>7</td>\n",
       "      <td>14.3</td>\n",
       "    </tr>\n",
       "    <tr>\n",
       "      <th>12</th>\n",
       "      <td>FR</td>\n",
       "      <td>5</td>\n",
       "      <td>40.0</td>\n",
       "    </tr>\n",
       "    <tr>\n",
       "      <th>23</th>\n",
       "      <td>KOR</td>\n",
       "      <td>4</td>\n",
       "      <td>50.0</td>\n",
       "    </tr>\n",
       "    <tr>\n",
       "      <th>38</th>\n",
       "      <td>TAG</td>\n",
       "      <td>4</td>\n",
       "      <td>50.0</td>\n",
       "    </tr>\n",
       "    <tr>\n",
       "      <th>30</th>\n",
       "      <td>POR</td>\n",
       "      <td>4</td>\n",
       "      <td>25.0</td>\n",
       "    </tr>\n",
       "    <tr>\n",
       "      <th>42</th>\n",
       "      <td>TWI</td>\n",
       "      <td>4</td>\n",
       "      <td>0.0</td>\n",
       "    </tr>\n",
       "    <tr>\n",
       "      <th>18</th>\n",
       "      <td>IFA</td>\n",
       "      <td>3</td>\n",
       "      <td>33.3</td>\n",
       "    </tr>\n",
       "    <tr>\n",
       "      <th>35</th>\n",
       "      <td>SOM</td>\n",
       "      <td>3</td>\n",
       "      <td>0.0</td>\n",
       "    </tr>\n",
       "    <tr>\n",
       "      <th>11</th>\n",
       "      <td>FAE</td>\n",
       "      <td>2</td>\n",
       "      <td>100.0</td>\n",
       "    </tr>\n",
       "    <tr>\n",
       "      <th>21</th>\n",
       "      <td>KNJ</td>\n",
       "      <td>2</td>\n",
       "      <td>100.0</td>\n",
       "    </tr>\n",
       "    <tr>\n",
       "      <th>14</th>\n",
       "      <td>HAU</td>\n",
       "      <td>2</td>\n",
       "      <td>50.0</td>\n",
       "    </tr>\n",
       "    <tr>\n",
       "      <th>32</th>\n",
       "      <td>PUS</td>\n",
       "      <td>2</td>\n",
       "      <td>50.0</td>\n",
       "    </tr>\n",
       "    <tr>\n",
       "      <th>3</th>\n",
       "      <td>BEN</td>\n",
       "      <td>2</td>\n",
       "      <td>0.0</td>\n",
       "    </tr>\n",
       "    <tr>\n",
       "      <th>16</th>\n",
       "      <td>HIN</td>\n",
       "      <td>2</td>\n",
       "      <td>0.0</td>\n",
       "    </tr>\n",
       "    <tr>\n",
       "      <th>22</th>\n",
       "      <td>KON</td>\n",
       "      <td>2</td>\n",
       "      <td>0.0</td>\n",
       "    </tr>\n",
       "    <tr>\n",
       "      <th>29</th>\n",
       "      <td>PIG</td>\n",
       "      <td>2</td>\n",
       "      <td>0.0</td>\n",
       "    </tr>\n",
       "    <tr>\n",
       "      <th>44</th>\n",
       "      <td>UNK</td>\n",
       "      <td>2</td>\n",
       "      <td>0.0</td>\n",
       "    </tr>\n",
       "    <tr>\n",
       "      <th>46</th>\n",
       "      <td>ZAP</td>\n",
       "      <td>2</td>\n",
       "      <td>0.0</td>\n",
       "    </tr>\n",
       "    <tr>\n",
       "      <th>6</th>\n",
       "      <td>CAN</td>\n",
       "      <td>1</td>\n",
       "      <td>100.0</td>\n",
       "    </tr>\n",
       "    <tr>\n",
       "      <th>37</th>\n",
       "      <td>SP</td>\n",
       "      <td>1</td>\n",
       "      <td>100.0</td>\n",
       "    </tr>\n",
       "    <tr>\n",
       "      <th>41</th>\n",
       "      <td>TU</td>\n",
       "      <td>1</td>\n",
       "      <td>100.0</td>\n",
       "    </tr>\n",
       "    <tr>\n",
       "      <th>0</th>\n",
       "      <td>AMH</td>\n",
       "      <td>1</td>\n",
       "      <td>0.0</td>\n",
       "    </tr>\n",
       "    <tr>\n",
       "      <th>4</th>\n",
       "      <td>BUR</td>\n",
       "      <td>1</td>\n",
       "      <td>0.0</td>\n",
       "    </tr>\n",
       "    <tr>\n",
       "      <th>5</th>\n",
       "      <td>CAM</td>\n",
       "      <td>1</td>\n",
       "      <td>0.0</td>\n",
       "    </tr>\n",
       "    <tr>\n",
       "      <th>8</th>\n",
       "      <td>DDN</td>\n",
       "      <td>1</td>\n",
       "      <td>0.0</td>\n",
       "    </tr>\n",
       "    <tr>\n",
       "      <th>10</th>\n",
       "      <td>EWE</td>\n",
       "      <td>1</td>\n",
       "      <td>0.0</td>\n",
       "    </tr>\n",
       "    <tr>\n",
       "      <th>13</th>\n",
       "      <td>GSW</td>\n",
       "      <td>1</td>\n",
       "      <td>0.0</td>\n",
       "    </tr>\n",
       "    <tr>\n",
       "      <th>15</th>\n",
       "      <td>HIF</td>\n",
       "      <td>1</td>\n",
       "      <td>0.0</td>\n",
       "    </tr>\n",
       "    <tr>\n",
       "      <th>17</th>\n",
       "      <td>IBO</td>\n",
       "      <td>1</td>\n",
       "      <td>0.0</td>\n",
       "    </tr>\n",
       "    <tr>\n",
       "      <th>19</th>\n",
       "      <td>IT</td>\n",
       "      <td>1</td>\n",
       "      <td>0.0</td>\n",
       "    </tr>\n",
       "    <tr>\n",
       "      <th>20</th>\n",
       "      <td>JAP</td>\n",
       "      <td>1</td>\n",
       "      <td>0.0</td>\n",
       "    </tr>\n",
       "    <tr>\n",
       "      <th>24</th>\n",
       "      <td>LAO</td>\n",
       "      <td>1</td>\n",
       "      <td>0.0</td>\n",
       "    </tr>\n",
       "    <tr>\n",
       "      <th>27</th>\n",
       "      <td>MIX</td>\n",
       "      <td>1</td>\n",
       "      <td>0.0</td>\n",
       "    </tr>\n",
       "    <tr>\n",
       "      <th>28</th>\n",
       "      <td>NEP</td>\n",
       "      <td>1</td>\n",
       "      <td>0.0</td>\n",
       "    </tr>\n",
       "    <tr>\n",
       "      <th>34</th>\n",
       "      <td>SOK</td>\n",
       "      <td>1</td>\n",
       "      <td>0.0</td>\n",
       "    </tr>\n",
       "    <tr>\n",
       "      <th>39</th>\n",
       "      <td>TIG</td>\n",
       "      <td>1</td>\n",
       "      <td>0.0</td>\n",
       "    </tr>\n",
       "    <tr>\n",
       "      <th>40</th>\n",
       "      <td>TON</td>\n",
       "      <td>1</td>\n",
       "      <td>0.0</td>\n",
       "    </tr>\n",
       "    <tr>\n",
       "      <th>43</th>\n",
       "      <td>TWN</td>\n",
       "      <td>1</td>\n",
       "      <td>0.0</td>\n",
       "    </tr>\n",
       "  </tbody>\n",
       "</table>\n",
       "</div>"
      ],
      "text/plain": [
       "   LANG  CASE_COUNT  QR_RATE\n",
       "36   SP         995     32.6\n",
       "9   ENG         401     32.7\n",
       "31  PUN          24     12.5\n",
       "7   CRE          10     40.0\n",
       "1    AR          10     20.0\n",
       "2   ARM          10     10.0\n",
       "26  MAN           9     44.4\n",
       "45  VIE           9     44.4\n",
       "33  RUS           7     28.6\n",
       "25  MAM           7     14.3\n",
       "12   FR           5     40.0\n",
       "23  KOR           4     50.0\n",
       "38  TAG           4     50.0\n",
       "30  POR           4     25.0\n",
       "42  TWI           4      0.0\n",
       "18  IFA           3     33.3\n",
       "35  SOM           3      0.0\n",
       "11  FAE           2    100.0\n",
       "21  KNJ           2    100.0\n",
       "14  HAU           2     50.0\n",
       "32  PUS           2     50.0\n",
       "3   BEN           2      0.0\n",
       "16  HIN           2      0.0\n",
       "22  KON           2      0.0\n",
       "29  PIG           2      0.0\n",
       "44  UNK           2      0.0\n",
       "46  ZAP           2      0.0\n",
       "6   CAN           1    100.0\n",
       "37  SP            1    100.0\n",
       "41   TU           1    100.0\n",
       "0   AMH           1      0.0\n",
       "4   BUR           1      0.0\n",
       "5   CAM           1      0.0\n",
       "8   DDN           1      0.0\n",
       "10  EWE           1      0.0\n",
       "13  GSW           1      0.0\n",
       "15  HIF           1      0.0\n",
       "17  IBO           1      0.0\n",
       "19   IT           1      0.0\n",
       "20  JAP           1      0.0\n",
       "24  LAO           1      0.0\n",
       "27  MIX           1      0.0\n",
       "28  NEP           1      0.0\n",
       "34  SOK           1      0.0\n",
       "39  TIG           1      0.0\n",
       "40  TON           1      0.0\n",
       "43  TWN           1      0.0"
      ]
     },
     "execution_count": 388,
     "metadata": {},
     "output_type": "execute_result"
    }
   ],
   "source": [
    "df_LANG_valid_stats"
   ]
  },
  {
   "cell_type": "code",
   "execution_count": null,
   "id": "4eb58a16-10e0-4db1-8038-52bb25556ffe",
   "metadata": {},
   "outputs": [],
   "source": []
  }
 ],
 "metadata": {
  "kernelspec": {
   "display_name": "Python 3 (ipykernel)",
   "language": "python",
   "name": "python3"
  },
  "language_info": {
   "codemirror_mode": {
    "name": "ipython",
    "version": 3
   },
   "file_extension": ".py",
   "mimetype": "text/x-python",
   "name": "python",
   "nbconvert_exporter": "python",
   "pygments_lexer": "ipython3",
   "version": "3.9.7"
  }
 },
 "nbformat": 4,
 "nbformat_minor": 5
}
