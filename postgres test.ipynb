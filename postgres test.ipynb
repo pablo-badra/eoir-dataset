{
 "cells": [
  {
   "cell_type": "code",
   "execution_count": 70,
   "id": "3c004aa0-b10c-4dc6-b53f-021accf6ba93",
   "metadata": {},
   "outputs": [
    {
     "data": {
      "text/plain": [
       "(1318929, 3)"
      ]
     },
     "execution_count": 70,
     "metadata": {},
     "output_type": "execute_result"
    }
   ],
   "source": [
    "import pandas as pd\n",
    "import os\n",
    "\n",
    "# cwd = '/Users/stjames/Dropbox/Pablo/data/eoir_dataset/'\n",
    "\n",
    "# os.chdir(cwd)\n",
    "\n",
    "df = pd.read_csv('/Volumes/TOSHIBA/foia_trac_reports_feb_23/A_TblCaseIdentifier.csv', sep='\\t',on_bad_lines='skip')\n",
    "df.shape"
   ]
  },
  {
   "cell_type": "code",
   "execution_count": 71,
   "id": "0594e17e-91cc-4b2d-ae5f-a53ad2c63824",
   "metadata": {},
   "outputs": [
    {
     "data": {
      "text/html": [
       "<div>\n",
       "<style scoped>\n",
       "    .dataframe tbody tr th:only-of-type {\n",
       "        vertical-align: middle;\n",
       "    }\n",
       "\n",
       "    .dataframe tbody tr th {\n",
       "        vertical-align: top;\n",
       "    }\n",
       "\n",
       "    .dataframe thead th {\n",
       "        text-align: right;\n",
       "    }\n",
       "</style>\n",
       "<table border=\"1\" class=\"dataframe\">\n",
       "  <thead>\n",
       "    <tr style=\"text-align: right;\">\n",
       "      <th></th>\n",
       "      <th>IDNCASEID</th>\n",
       "      <th>IDNCASE</th>\n",
       "      <th>CASE_ID</th>\n",
       "    </tr>\n",
       "  </thead>\n",
       "  <tbody>\n",
       "    <tr>\n",
       "      <th>0</th>\n",
       "      <td>1</td>\n",
       "      <td>2046920.0</td>\n",
       "      <td>SR</td>\n",
       "    </tr>\n",
       "    <tr>\n",
       "      <th>1</th>\n",
       "      <td>2</td>\n",
       "      <td>2046921.0</td>\n",
       "      <td>SR</td>\n",
       "    </tr>\n",
       "    <tr>\n",
       "      <th>2</th>\n",
       "      <td>3</td>\n",
       "      <td>2046922.0</td>\n",
       "      <td>SR</td>\n",
       "    </tr>\n",
       "    <tr>\n",
       "      <th>3</th>\n",
       "      <td>4</td>\n",
       "      <td>2046924.0</td>\n",
       "      <td>SR</td>\n",
       "    </tr>\n",
       "    <tr>\n",
       "      <th>4</th>\n",
       "      <td>5</td>\n",
       "      <td>2046925.0</td>\n",
       "      <td>SR</td>\n",
       "    </tr>\n",
       "  </tbody>\n",
       "</table>\n",
       "</div>"
      ],
      "text/plain": [
       "   IDNCASEID    IDNCASE CASE_ID\n",
       "0          1  2046920.0      SR\n",
       "1          2  2046921.0      SR\n",
       "2          3  2046922.0      SR\n",
       "3          4  2046924.0      SR\n",
       "4          5  2046925.0      SR"
      ]
     },
     "execution_count": 71,
     "metadata": {},
     "output_type": "execute_result"
    }
   ],
   "source": [
    "df.head()"
   ]
  },
  {
   "cell_type": "code",
   "execution_count": 72,
   "id": "99e8b8ec-25db-4775-9c67-a7b5bbdb5288",
   "metadata": {},
   "outputs": [],
   "source": [
    "from sqlalchemy import create_engine\n",
    "\n",
    "\n",
    "engine = create_engine('postgresql://localhost:5432/postgres', isolation_level=\"AUTOCOMMIT\")\n",
    "with engine.connect() as conn:\n",
    "    try:\n",
    "        conn.execute(\"\"\"\n",
    "        SELECT pg_terminate_backend(pg_stat_activity.pid)\n",
    "            FROM pg_stat_activity\n",
    "            WHERE pg_stat_activity.datname = 'eoir' AND pid <> pg_backend_pid();\n",
    "        \"\"\")\n",
    "    except:\n",
    "        pass\n",
    "    conn.execute(\"\"\"\n",
    "        DROP DATABASE IF EXISTS eoir;\n",
    "    \"\"\")\n",
    "    conn.execute(\"\"\"\n",
    "        CREATE DATABASE eoir;\n",
    "    \"\"\")\n",
    "\n"
   ]
  },
  {
   "cell_type": "code",
   "execution_count": 73,
   "id": "101cef6b-64ad-472f-9e80-7de968e15920",
   "metadata": {},
   "outputs": [],
   "source": [
    "df = df.dropna()"
   ]
  },
  {
   "cell_type": "code",
   "execution_count": 74,
   "id": "640cdb47-60ee-4631-9bd7-b50cb98757cc",
   "metadata": {},
   "outputs": [
    {
     "data": {
      "text/plain": [
       "Index(['IDNCASEID', 'IDNCASE', 'CASE_ID'], dtype='object')"
      ]
     },
     "execution_count": 74,
     "metadata": {},
     "output_type": "execute_result"
    }
   ],
   "source": [
    "df.columns"
   ]
  },
  {
   "cell_type": "code",
   "execution_count": 75,
   "id": "6f6a7d91-d315-455c-96d2-b3ed35f221a0",
   "metadata": {},
   "outputs": [],
   "source": [
    "engine = create_engine('postgresql://localhost:5432/eoir', isolation_level=\"AUTOCOMMIT\")\n",
    "with engine.connect() as conn:\n",
    "    conn.execute(\"\"\"\n",
    "        CREATE TABLE public.case_identifier (\n",
    "            id serial NOT NULL,\n",
    "            IDNCASEID int,\n",
    "            IDNCASE int,\n",
    "            CASE_ID text,\n",
    "            PRIMARY KEY (\"id\")\n",
    "        );\n",
    "    \"\"\")"
   ]
  },
  {
   "cell_type": "code",
   "execution_count": 76,
   "id": "7feda6c2-d18f-446f-9c11-624fa253c82c",
   "metadata": {},
   "outputs": [],
   "source": [
    "import sqlalchemy\n",
    "\n",
    "engine = create_engine('postgresql://localhost:5432/eoir', isolation_level=\"AUTOCOMMIT\")\n",
    "\n",
    "df.to_sql('case_identifier',\n",
    "          engine,\n",
    "          if_exists='replace',\n",
    "          index_label='id',\n",
    "          chunksize=10000,\n",
    "          dtype= {\n",
    "            'IDNCASEID': sqlalchemy.types.INTEGER(), \n",
    "            'IDNCASE':  sqlalchemy.types.INTEGER(),\n",
    "            'CASE_ID': sqlalchemy.types.TEXT(),\n",
    "          })\n",
    "\n",
    "# Add indices to speed up processing\n",
    "with engine.connect() as conn:\n",
    "    conn.execute(\"\"\"\n",
    "        CREATE INDEX idx_idncase_id ON case_identifier (\"IDNCASE\");\n",
    "    \"\"\")"
   ]
  },
  {
   "cell_type": "code",
   "execution_count": 77,
   "id": "315a83f3-2df8-464d-82c0-c71086a36347",
   "metadata": {},
   "outputs": [],
   "source": [
    "import sqlalchemy\n",
    "\n",
    "\n",
    "# Create a connection to the PostgreSQL database\n",
    "engine = sqlalchemy.create_engine('postgresql://localhost:5432/eoir')\n",
    "\n",
    "# Query the table\n",
    "\n",
    "query = 'SELECT * FROM case_identifier'\n",
    "\n",
    "sdf = pd.read_sql(query, engine)\n",
    "\n",
    "connection.close()\n"
   ]
  },
  {
   "cell_type": "code",
   "execution_count": 78,
   "id": "e2fd4424-9aec-47f3-a100-3a8b2b9a5d50",
   "metadata": {},
   "outputs": [
    {
     "data": {
      "text/html": [
       "<div>\n",
       "<style scoped>\n",
       "    .dataframe tbody tr th:only-of-type {\n",
       "        vertical-align: middle;\n",
       "    }\n",
       "\n",
       "    .dataframe tbody tr th {\n",
       "        vertical-align: top;\n",
       "    }\n",
       "\n",
       "    .dataframe thead th {\n",
       "        text-align: right;\n",
       "    }\n",
       "</style>\n",
       "<table border=\"1\" class=\"dataframe\">\n",
       "  <thead>\n",
       "    <tr style=\"text-align: right;\">\n",
       "      <th></th>\n",
       "      <th>id</th>\n",
       "      <th>IDNCASEID</th>\n",
       "      <th>IDNCASE</th>\n",
       "      <th>CASE_ID</th>\n",
       "    </tr>\n",
       "  </thead>\n",
       "  <tbody>\n",
       "    <tr>\n",
       "      <th>0</th>\n",
       "      <td>0</td>\n",
       "      <td>1</td>\n",
       "      <td>2046920</td>\n",
       "      <td>SR</td>\n",
       "    </tr>\n",
       "    <tr>\n",
       "      <th>1</th>\n",
       "      <td>1</td>\n",
       "      <td>2</td>\n",
       "      <td>2046921</td>\n",
       "      <td>SR</td>\n",
       "    </tr>\n",
       "    <tr>\n",
       "      <th>2</th>\n",
       "      <td>2</td>\n",
       "      <td>3</td>\n",
       "      <td>2046922</td>\n",
       "      <td>SR</td>\n",
       "    </tr>\n",
       "    <tr>\n",
       "      <th>3</th>\n",
       "      <td>3</td>\n",
       "      <td>4</td>\n",
       "      <td>2046924</td>\n",
       "      <td>SR</td>\n",
       "    </tr>\n",
       "    <tr>\n",
       "      <th>4</th>\n",
       "      <td>4</td>\n",
       "      <td>5</td>\n",
       "      <td>2046925</td>\n",
       "      <td>SR</td>\n",
       "    </tr>\n",
       "    <tr>\n",
       "      <th>...</th>\n",
       "      <td>...</td>\n",
       "      <td>...</td>\n",
       "      <td>...</td>\n",
       "      <td>...</td>\n",
       "    </tr>\n",
       "    <tr>\n",
       "      <th>1312342</th>\n",
       "      <td>1318924</td>\n",
       "      <td>1694337</td>\n",
       "      <td>11620738</td>\n",
       "      <td>DD</td>\n",
       "    </tr>\n",
       "    <tr>\n",
       "      <th>1312343</th>\n",
       "      <td>1318925</td>\n",
       "      <td>1694339</td>\n",
       "      <td>11620823</td>\n",
       "      <td>AU</td>\n",
       "    </tr>\n",
       "    <tr>\n",
       "      <th>1312344</th>\n",
       "      <td>1318926</td>\n",
       "      <td>1694340</td>\n",
       "      <td>11620865</td>\n",
       "      <td>DD</td>\n",
       "    </tr>\n",
       "    <tr>\n",
       "      <th>1312345</th>\n",
       "      <td>1318927</td>\n",
       "      <td>1694341</td>\n",
       "      <td>11620936</td>\n",
       "      <td>AU</td>\n",
       "    </tr>\n",
       "    <tr>\n",
       "      <th>1312346</th>\n",
       "      <td>1318928</td>\n",
       "      <td>1694342</td>\n",
       "      <td>11620956</td>\n",
       "      <td>AU</td>\n",
       "    </tr>\n",
       "  </tbody>\n",
       "</table>\n",
       "<p>1312347 rows × 4 columns</p>\n",
       "</div>"
      ],
      "text/plain": [
       "              id  IDNCASEID   IDNCASE CASE_ID\n",
       "0              0          1   2046920      SR\n",
       "1              1          2   2046921      SR\n",
       "2              2          3   2046922      SR\n",
       "3              3          4   2046924      SR\n",
       "4              4          5   2046925      SR\n",
       "...          ...        ...       ...     ...\n",
       "1312342  1318924    1694337  11620738      DD\n",
       "1312343  1318925    1694339  11620823      AU\n",
       "1312344  1318926    1694340  11620865      DD\n",
       "1312345  1318927    1694341  11620936      AU\n",
       "1312346  1318928    1694342  11620956      AU\n",
       "\n",
       "[1312347 rows x 4 columns]"
      ]
     },
     "execution_count": 78,
     "metadata": {},
     "output_type": "execute_result"
    }
   ],
   "source": [
    "sdf"
   ]
  },
  {
   "cell_type": "code",
   "execution_count": null,
   "id": "5f691586-1c21-4e8e-8f6b-84ddbcb81f24",
   "metadata": {},
   "outputs": [],
   "source": []
  }
 ],
 "metadata": {
  "kernelspec": {
   "display_name": "Python 3 (ipykernel)",
   "language": "python",
   "name": "python3"
  },
  "language_info": {
   "codemirror_mode": {
    "name": "ipython",
    "version": 3
   },
   "file_extension": ".py",
   "mimetype": "text/x-python",
   "name": "python",
   "nbconvert_exporter": "python",
   "pygments_lexer": "ipython3",
   "version": "3.9.7"
  }
 },
 "nbformat": 4,
 "nbformat_minor": 5
}
