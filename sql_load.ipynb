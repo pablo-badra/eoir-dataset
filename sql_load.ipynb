{
 "cells": [
  {
   "cell_type": "code",
   "execution_count": 4,
   "id": "8e414ce7-1992-4aff-88c2-5b27c114778a",
   "metadata": {},
   "outputs": [],
   "source": [
    "import sqlite3\n",
    "import csv"
   ]
  },
  {
   "cell_type": "code",
   "execution_count": 5,
   "id": "4e5fdb6d-bfad-41b5-bff1-1abb62587b74",
   "metadata": {},
   "outputs": [],
   "source": [
    "# Define a function to detect the type of a value\n",
    "def detect_type(value):\n",
    "    try:\n",
    "        int(value)\n",
    "        return 'INTEGER'\n",
    "    except ValueError:\n",
    "        try:\n",
    "            float(value)\n",
    "            return 'REAL'\n",
    "        except ValueError:\n",
    "            return 'TEXT'\n",
    "\n",
    "# Define a generator function to clean the lines\n",
    "def clean_lines(file):\n",
    "    for line in file:\n",
    "        yield line.replace('\\0', '')"
   ]
  },
  {
   "cell_type": "code",
   "execution_count": 6,
   "id": "0d3c6775-4992-4938-95fa-64df6de71493",
   "metadata": {},
   "outputs": [
    {
     "name": "stdout",
     "output_type": "stream",
     "text": [
      "Error on line 2268091: table cases has 39 columns but 40 values were supplied\n",
      "Error on line 2268114: table cases has 39 columns but 40 values were supplied\n",
      "Error on line 2268148: table cases has 39 columns but 40 values were supplied\n",
      "Error on line 2268187: table cases has 39 columns but 40 values were supplied\n",
      "Error on line 2270178: table cases has 39 columns but 40 values were supplied\n",
      "Error on line 2270216: table cases has 39 columns but 40 values were supplied\n",
      "Error on line 6946189: table cases has 39 columns but 40 values were supplied\n",
      "Error on line 6948176: table cases has 39 columns but 40 values were supplied\n",
      "Error on line 6948360: table cases has 39 columns but 40 values were supplied\n",
      "Error on line 6948369: table cases has 39 columns but 40 values were supplied\n",
      "Error on line 6952430: table cases has 39 columns but 40 values were supplied\n",
      "Error on line 6953103: table cases has 39 columns but 40 values were supplied\n",
      "Error on line 8103385: table cases has 39 columns but 40 values were supplied\n",
      "Error on line 8103389: table cases has 39 columns but 40 values were supplied\n",
      "Error on line 8103390: table cases has 39 columns but 40 values were supplied\n",
      "Error on line 8103395: table cases has 39 columns but 40 values were supplied\n",
      "Error on line 8240887: table cases has 39 columns but 40 values were supplied\n",
      "Error on line 8278367: table cases has 39 columns but 40 values were supplied\n",
      "Error on line 8316151: table cases has 39 columns but 40 values were supplied\n",
      "Error on line 8317521: table cases has 39 columns but 40 values were supplied\n",
      "Error on line 8327819: table cases has 39 columns but 40 values were supplied\n",
      "Error on line 8331943: table cases has 39 columns but 40 values were supplied\n",
      "Error on line 8361810: table cases has 39 columns but 40 values were supplied\n",
      "Error on line 8365000: table cases has 39 columns but 40 values were supplied\n",
      "Error on line 8365481: table cases has 39 columns but 40 values were supplied\n",
      "Error on line 8365596: table cases has 39 columns but 40 values were supplied\n",
      "Error on line 8369684: table cases has 39 columns but 40 values were supplied\n",
      "Error on line 8369914: table cases has 39 columns but 40 values were supplied\n",
      "Error on line 8370844: table cases has 39 columns but 40 values were supplied\n",
      "Error on line 8494427: table cases has 39 columns but 40 values were supplied\n",
      "Error on line 8494428: table cases has 39 columns but 40 values were supplied\n",
      "Error on line 8494429: table cases has 39 columns but 40 values were supplied\n",
      "Error on line 8518965: table cases has 39 columns but 40 values were supplied\n",
      "Error on line 8523876: table cases has 39 columns but 40 values were supplied\n",
      "Error on line 8589773: table cases has 39 columns but 40 values were supplied\n",
      "Error on line 8592250: table cases has 39 columns but 40 values were supplied\n",
      "Error on line 8663081: table cases has 39 columns but 40 values were supplied\n",
      "Error on line 8700906: table cases has 39 columns but 40 values were supplied\n",
      "Error on line 8731209: table cases has 39 columns but 40 values were supplied\n",
      "Error on line 8758450: table cases has 39 columns but 40 values were supplied\n",
      "Error on line 8793556: table cases has 39 columns but 40 values were supplied\n",
      "Error on line 8796316: table cases has 39 columns but 40 values were supplied\n",
      "Error on line 8798470: table cases has 39 columns but 40 values were supplied\n",
      "Error on line 8798927: table cases has 39 columns but 40 values were supplied\n",
      "Error on line 8817060: table cases has 39 columns but 40 values were supplied\n",
      "Error on line 8874675: table cases has 39 columns but 40 values were supplied\n",
      "Error on line 9073192: table cases has 39 columns but 40 values were supplied\n",
      "Error on line 9078067: table cases has 39 columns but 40 values were supplied\n",
      "Error on line 9078186: table cases has 39 columns but 40 values were supplied\n",
      "Error on line 9078586: table cases has 39 columns but 40 values were supplied\n",
      "Error on line 9078746: table cases has 39 columns but 40 values were supplied\n"
     ]
    }
   ],
   "source": [
    "# Create a connection to the SQLite database\n",
    "conn = sqlite3.connect('my_database.sqlite')\n",
    "\n",
    "# Create a cursor object\n",
    "cur = conn.cursor()\n",
    "\n",
    "cur.execute(\"DROP TABLE IF EXISTS cases\")\n",
    "\n",
    "# Open CSV file\n",
    "with open('/Users/stjames/Dropbox/Pablo/data/EOIR TRAC JUNE/A_TblCase.csv', 'r', encoding='latin-1') as f:\n",
    "    # Create a CSV reader with cleaned lines\n",
    "    reader = csv.reader(clean_lines(f), delimiter='\\t', quoting=csv.QUOTE_NONE)\n",
    "    \n",
    "    # Get the headers from the first row\n",
    "    headers = next(reader)\n",
    "    \n",
    "    # Get the types from the first data row\n",
    "    first_row = next(reader)\n",
    "    types = [detect_type(value) for value in first_row]\n",
    "    \n",
    "    # Create a table\n",
    "    cur.execute(f'CREATE TABLE cases ({\", \".join(f\"{name} {type}\" for name, type in zip(headers, types))})')\n",
    "    \n",
    "    # Insert the first data row\n",
    "    cur.execute(f'INSERT INTO cases VALUES ({\", \".join(\"?\" for _ in first_row)})', first_row)\n",
    "    \n",
    "    # Insert the remaining data rows\n",
    "    for i, row in enumerate(reader, start=2):  # start=2 because we've already read two lines\n",
    "        try:\n",
    "            cur.execute(f'INSERT INTO cases VALUES ({\", \".join(\"?\" for _ in row)})', row)\n",
    "        except Exception as e:\n",
    "            print(f'Error on line {i}: {e}')\n",
    "            continue  # Skip this row and move on to the next one\n"
   ]
  },
  {
   "cell_type": "code",
   "execution_count": null,
   "id": "3c572e7b-1f15-4628-b8c5-ab021a07211f",
   "metadata": {},
   "outputs": [],
   "source": [
    "# Comimt your changes and close the connection when finished\n",
    "conn.commit()\n",
    "conn.close()"
   ]
  },
  {
   "cell_type": "code",
   "execution_count": 9,
   "id": "65a9d0fb-e5a7-4eee-ab65-f141cb4ab924",
   "metadata": {},
   "outputs": [
    {
     "name": "stdout",
     "output_type": "stream",
     "text": [
      "(11812380, 'OAKLAND', 'CA', 94601, '', '', 'ES', 'SP', 'N', 'M', '', '', 'RMV', 'SFR', '2025-05-27 00:00:00.000', 1330, 'M', '', '', '', '', '', '', '2022-10-14 00:00:00.000', '', '11/2004', '', '', '', '', '', '', '', '', '', '', '', '', 'N/A')\n",
      "(11812381, 'CARROLTON', 'TX', 75007, '', '', 'PE', 'SP', 'N', 'M', '', '', 'RMV', 'DAL', '2027-04-07 00:00:00.000', 1300, 'M', '', '', '', '', '', '', '2022-12-17 00:00:00.000', '', '10/1998', '', '', '', '', 'M', '', '', '', '', '', '', '', 'N/A')\n",
      "(11812382, '', '', '', '', '', 'ER', 'ENG', 'N', 'M', '', '', 'RMV', 'NYC', '2023-11-28 00:00:00.000', 1030, 'M', '', '', '', '', '', '', '2023-05-03 00:00:00.000', '', '3/1992', '', '', '', '', 'M', '', '', '', '', '', '', '', 'N/A')\n",
      "(11812383, 'SARASOTA', 'FL', 34234, '', '', 'VE', 'SP', 'N', 'M', '', '', 'RMV', 'ORL', '2025-07-15 00:00:00.000', 830, 'M', '', '', '', '', '', '', '2023-05-03 00:00:00.000', '', '7/1995', '', '', '', '', 'F', '', '', '', '', '', '', '', 'N/A')\n",
      "(11812384, 'SARASOTA', 'FL', 34234, '', '', 'VE', 'SP', 'N', 'M', '', '', 'RMV', 'ORL', '2025-07-15 00:00:00.000', 830, 'M', '', '', '', '', '', '', '2023-05-03 00:00:00.000', '', '2/2016', '', '', '', '', 'F', '', '', '', '', '', '', '', 'N/A')\n",
      "(11812385, 'PASSAIC', 'NJ', 7055, '', '', 'PE', 'SP', 'N', 'M', '', '', 'RMV', 'NEW', '2026-10-26 00:00:00.000', 1300, 'M', '', '', '', '', '', '', '2023-05-07 00:00:00.000', '', '9/1992', '', '', '', '', 'F', '', '', '', '', '', '', '', 'N/A')\n",
      "(11812386, 'PASSAIC', 'NJ', 7055, '', '', 'PE', 'SP', 'N', 'M', '', '', 'RMV', 'NEW', '2026-10-26 00:00:00.000', 1300, 'M', '', '', '', '', '', '', '2023-05-07 00:00:00.000', '', '7/2010', '', '', '', '', 'F', '', '', '', '', '', '', '', 'N/A')\n",
      "(11812387, 'MINNEAPOLIS', 'MN', 55417, '', '', 'EC', 'SP', 'N', 'M', '', '', 'RMV', 'BLM', '2024-04-09 00:00:00.000', 830, 'M', '', '', '', '', '', '', '2023-05-08 00:00:00.000', '', '5/1999', '', '', '2023-06-26 15:39:21.000', '', 'M', '', '', '', '', '', '', '', 'N/A')\n",
      "(11812388, 'LEHIGH ACRES', 'FL', 33976, '', '', 'CO', 'SP', 'R', '', '', '', 'RMV', 'HSG', '2023-08-02 00:00:00.000', 1300, 'M', '', '', '', '', '', '', '2023-04-15 00:00:00.000', '', '', '', '', '', '', 'M', '2023-04-15 00:00:00.000', '2023-05-08 00:00:00.000', '', '', '', '', '', 'N/A')\n",
      "(11812389, 'Queens', 'NY', 11101, '', '', 'CO', 'SP', 'N', 'M', '', '', 'RMV', 'NYC', '2023-12-13 00:00:00.000', 830, 'M', '', '', '', '', '', '', '2023-05-06 00:00:00.000', '', '6/2008', '', '', '2023-05-30 11:34:31.403', '', 'F', '', '', '', '', '', '', '', 'N/A')\n"
     ]
    }
   ],
   "source": [
    "cur.execute('SELECT * FROM cases LIMIT 10')\n",
    "rows = cur.fetchall()\n",
    "\n",
    "for row in rows:\n",
    "    print(row)\n"
   ]
  },
  {
   "cell_type": "code",
   "execution_count": 10,
   "id": "e77b9862-8458-42cd-96a3-50957e696a13",
   "metadata": {},
   "outputs": [],
   "source": [
    "conn.commit()\n",
    "conn.close()\n"
   ]
  },
  {
   "cell_type": "code",
   "execution_count": null,
   "id": "5bf637df-016d-4eaf-8046-97a92b805c93",
   "metadata": {},
   "outputs": [],
   "source": []
  }
 ],
 "metadata": {
  "kernelspec": {
   "display_name": "Python 3 (ipykernel)",
   "language": "python",
   "name": "python3"
  },
  "language_info": {
   "codemirror_mode": {
    "name": "ipython",
    "version": 3
   },
   "file_extension": ".py",
   "mimetype": "text/x-python",
   "name": "python",
   "nbconvert_exporter": "python",
   "pygments_lexer": "ipython3",
   "version": "3.9.7"
  }
 },
 "nbformat": 4,
 "nbformat_minor": 5
}
